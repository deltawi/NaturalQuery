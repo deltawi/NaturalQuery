{
 "cells": [
  {
   "cell_type": "markdown",
   "id": "1fb92c40",
   "metadata": {},
   "source": [
    "## Default usage"
   ]
  },
  {
   "cell_type": "code",
   "execution_count": 1,
   "id": "9523b40b",
   "metadata": {},
   "outputs": [],
   "source": [
    "from query_translator.translator import QueryTranslator\n",
    "\n",
    "query_translator = QueryTranslator(config_path=\"./local_config.yaml\")"
   ]
  },
  {
   "cell_type": "code",
   "execution_count": 2,
   "id": "8cd8b0f5",
   "metadata": {},
   "outputs": [
    {
     "name": "stdout",
     "output_type": "stream",
     "text": [
      "Using cached ddl...\n",
      "The supplier with products that has the most reviews from customers is \"Global Supplies\" with a review count of 1.\n"
     ]
    }
   ],
   "source": [
    "question = \"Who are the suppliers with products that have the most reviews from costumers ?\"\n",
    "\n",
    "answer = query_translator.answer(question)\n",
    "print(answer)"
   ]
  },
  {
   "cell_type": "code",
   "execution_count": 3,
   "id": "efb60612",
   "metadata": {},
   "outputs": [
    {
     "name": "stdout",
     "output_type": "stream",
     "text": [
      "Using cached ddl...\n"
     ]
    }
   ],
   "source": [
    "answer = query_translator.answer(\"How many products do they sell ?\")\n",
    "print(answer)"
   ]
  },
  {
   "cell_type": "markdown",
   "id": "b96a16cc",
   "metadata": {},
   "source": [
    "## Query in a different language"
   ]
  },
  {
   "cell_type": "markdown",
   "id": "9c5d8668",
   "metadata": {},
   "source": [
    "### Trying French"
   ]
  },
  {
   "cell_type": "code",
   "execution_count": 8,
   "id": "3247f4be",
   "metadata": {},
   "outputs": [],
   "source": [
    "query_translator = QueryTranslator(config_path=\"./config.yaml\", language=\"Fr\")"
   ]
  },
  {
   "cell_type": "code",
   "execution_count": 9,
   "id": "14af0396",
   "metadata": {},
   "outputs": [
    {
     "name": "stdout",
     "output_type": "stream",
     "text": [
      "Using cached ddl...\n"
     ]
    },
    {
     "name": "stderr",
     "output_type": "stream",
     "text": [
      "/Users/mehditantaoui/Documents/Challenges/GenAI-SQL/NaturalQuery/src/connectors/base_connector.py:33: UserWarning: pandas only supports SQLAlchemy connectable (engine/connection) or database string URI or sqlite3 DBAPI2 connection. Other DBAPI2 objects are not tested. Please consider using SQLAlchemy.\n",
      "  return pd.read_sql(query, self.connection)\n"
     ]
    },
    {
     "name": "stdout",
     "output_type": "stream",
     "text": [
      " Le fournisseur avec le plus de produits évalués par les clients est Global Supplies (supplierid = 1, avec 1 évaluation). Il est suivi de Quality Goods Inc. (supplierid = 2, avec également 1 évaluation).\n"
     ]
    }
   ],
   "source": [
    "question = \"Quels sont les fournisseurs qui ont des produits les plus notés par les clients ?\"\n",
    "\n",
    "answer = query_translator.answer(question)\n",
    "print(answer)"
   ]
  },
  {
   "cell_type": "markdown",
   "id": "466e47e9",
   "metadata": {},
   "source": [
    "### Trying Arabic"
   ]
  },
  {
   "cell_type": "code",
   "execution_count": 12,
   "id": "8a6f7c1d",
   "metadata": {},
   "outputs": [],
   "source": [
    "query_translator = QueryTranslator(config_path=\"./config.yaml\", language=\"Ar\")"
   ]
  },
  {
   "cell_type": "code",
   "execution_count": 13,
   "id": "451223d4",
   "metadata": {},
   "outputs": [
    {
     "name": "stdout",
     "output_type": "stream",
     "text": [
      "Using cached ddl...\n"
     ]
    },
    {
     "name": "stderr",
     "output_type": "stream",
     "text": [
      "/Users/mehditantaoui/Documents/Challenges/GenAI-SQL/NaturalQuery/src/connectors/base_connector.py:33: UserWarning: pandas only supports SQLAlchemy connectable (engine/connection) or database string URI or sqlite3 DBAPI2 connection. Other DBAPI2 objects are not tested. Please consider using SQLAlchemy.\n",
      "  return pd.read_sql(query, self.connection)\n"
     ]
    },
    {
     "name": "stdout",
     "output_type": "stream",
     "text": [
      " سupplierId: 2، سupplierName: \"Quality Goods Inc.\"، total\\_ratings: 5\n",
      "\n",
      "هذا المورد تلميعت المزيد من التقييمات من العملاء على منتجاتهم من بقية الموردين.\n"
     ]
    }
   ],
   "source": [
    "question = \"ما هم الموردون الذين لديهم منتجات حصلت على أكبر عدد من التقييمات من العملاء ؟\"\n",
    "\n",
    "answer = query_translator.answer(question)\n",
    "print(answer)"
   ]
  },
  {
   "cell_type": "code",
   "execution_count": null,
   "id": "6533e047",
   "metadata": {},
   "outputs": [],
   "source": []
  }
 ],
 "metadata": {
  "kernelspec": {
   "display_name": "Python 3 (ipykernel)",
   "language": "python",
   "name": "python3"
  },
  "language_info": {
   "codemirror_mode": {
    "name": "ipython",
    "version": 3
   },
   "file_extension": ".py",
   "mimetype": "text/x-python",
   "name": "python",
   "nbconvert_exporter": "python",
   "pygments_lexer": "ipython3",
   "version": "3.9.12"
  }
 },
 "nbformat": 4,
 "nbformat_minor": 5
}
