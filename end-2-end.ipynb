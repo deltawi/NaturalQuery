{
 "cells": [
  {
   "cell_type": "code",
   "execution_count": 1,
   "id": "23e5924b-5f61-49e3-901d-f59c453e744e",
   "metadata": {},
   "outputs": [],
   "source": [
    "from llm_utils import *"
   ]
  },
  {
   "cell_type": "code",
   "execution_count": 19,
   "id": "47d8543a-0182-4312-961a-f9e36b53f893",
   "metadata": {
    "editable": true,
    "slideshow": {
     "slide_type": ""
    },
    "tags": []
   },
   "outputs": [],
   "source": [
    "DATABASE = \"postgres\"\n",
    "USER = \"postgres\"\n",
    "PASSWORD = \"mysecretpassword\"\n",
    "HOST = \"localhost\"\n",
    "PORT = 5432\n",
    "TABLES = []  # list of tables to load or [] to load all tables\n",
    "\n",
    "from db_connectors import PostgresConnector\n",
    "from prompt_formatters import RajkumarFormatter, SqlCoderFormatter\n",
    "\n",
    "try:\n",
    "    # Get the connector and formatter\n",
    "    postgres_connector = PostgresConnector(\n",
    "        user=USER, password=PASSWORD, dbname=DATABASE, host=HOST, port=PORT\n",
    "    )\n",
    "    postgres_connector.connect()\n",
    "    if len(TABLES) <= 0:\n",
    "        TABLES.extend(postgres_connector.get_tables())\n",
    "    \n",
    "    print(f\"Loading tables: {TABLES}\")\n",
    "    \n",
    "    db_schema = [postgres_connector.get_schema(table) for table in TABLES]\n",
    "    formatter = SqlCoderFormatter(db_schema)\n",
    "except:\n",
    "    formatter = SqlCoderFormatter([])\n",
    "    # Reading from the file\n",
    "    with open(\"sample_table_str_raw.txt\", 'r') as file:\n",
    "        formatter.table_str = file.read()"
   ]
  },
  {
   "cell_type": "code",
   "execution_count": 20,
   "id": "b301b3dd-89cc-43a9-ba0e-fb4851c77120",
   "metadata": {},
   "outputs": [],
   "source": [
    "question = \"How many products are we selling ?\"\n"
   ]
  },
  {
   "cell_type": "code",
   "execution_count": 21,
   "id": "880783d6-7877-456a-b4cb-2c11a96020d0",
   "metadata": {
    "editable": true,
    "slideshow": {
     "slide_type": ""
    },
    "tags": []
   },
   "outputs": [
    {
     "name": "stdout",
     "output_type": "stream",
     "text": [
      "Loading model...\n",
      "Using device cuda.\n"
     ]
    },
    {
     "data": {
      "application/vnd.jupyter.widget-view+json": {
       "model_id": "f52e68a5b89d4b46a2199703de640404",
       "version_major": 2,
       "version_minor": 0
      },
      "text/plain": [
       "Loading checkpoint shards:   0%|          | 0/2 [00:00<?, ?it/s]"
      ]
     },
     "metadata": {},
     "output_type": "display_data"
    },
    {
     "name": "stdout",
     "output_type": "stream",
     "text": [
      "Tokenizing....\n",
      "Generating...\n",
      "Loading model...\n",
      "Using device cuda.\n"
     ]
    },
    {
     "data": {
      "application/vnd.jupyter.widget-view+json": {
       "model_id": "25050f1249334f5da15f5c824fb1d49a",
       "version_major": 2,
       "version_minor": 0
      },
      "text/plain": [
       "Loading checkpoint shards:   0%|          | 0/2 [00:00<?, ?it/s]"
      ]
     },
     "metadata": {},
     "output_type": "display_data"
    },
    {
     "name": "stderr",
     "output_type": "stream",
     "text": [
      "The attention mask and the pad token id were not set. As a consequence, you may observe unexpected behavior. Please pass your input's `attention_mask` to obtain reliable results.\n",
      "Setting `pad_token_id` to `eos_token_id`:2 for open-end generation.\n"
     ]
    },
    {
     "name": "stdout",
     "output_type": "stream",
     "text": [
      "Tokenizing....\n",
      "Generating...\n",
      "CPU times: user 2min 17s, sys: 1min 35s, total: 3min 53s\n",
      "Wall time: 1min 46s\n"
     ]
    }
   ],
   "source": [
    "%%time\n",
    "# Enrich the db definition with comments\n",
    "formatter.table_str = add_comment_to_sql(formatter.table_str, debug=False)\n",
    "# Build the prompt for Text2SQL\n",
    "prompt = formatter.format_prompt(question, database='Postgres')\n",
    "# Get SQLQuery\n",
    "response = prompt_llm_offline(prompt=prompt, max_length=2500, model_name=HG_SQL_LLM_MODEL_PATH)\n",
    "query = extract_sql_code(response)"
   ]
  },
  {
   "cell_type": "code",
   "execution_count": 22,
   "id": "17f92c2f-76b4-46ba-a1d7-913573a15134",
   "metadata": {},
   "outputs": [
    {
     "name": "stdout",
     "output_type": "stream",
     "text": [
      "\n",
      "-- Replace the query below with your SQL query:\n",
      " SELECT COUNT(DISTINCT products.productid) AS number_of_products FROM products;\n",
      "\n"
     ]
    }
   ],
   "source": [
    "print(query)"
   ]
  },
  {
   "cell_type": "code",
   "execution_count": 8,
   "id": "ca736c02-ee03-4d60-9f89-898a13ebb1b1",
   "metadata": {},
   "outputs": [
    {
     "name": "stdout",
     "output_type": "stream",
     "text": [
      "### Instructions:\n",
      "Your task is convert a question into a SQL query, given a Postgres database schema.\n",
      "Adhere to these rules:\n",
      "- **Deliberately go through the question and database schema word by word** to appropriately answer the question\n",
      "- **Use Table Aliases** to prevent ambiguity. For example, `SELECT table1.col1, table2.col1 FROM table1 JOIN table2 ON table1.id = table2.id`.\n",
      "- When creating a ratio, always cast the numerator as float\n",
      "\n",
      "### Input:\n",
      "Generate a SQL query that answers the questioq `What is the most frequently used payment method ?`.\n",
      "This query will run on a database whose schema is represented in this string:\n",
      "\n",
      "CREATE TABLE suppliers (\n",
      "    supplierid SERIAL PRIMARY KEY, -- supplierid is the unique identifier for each supplier\n",
      "    suppliername VARCHAR(100), -- supplier name\n",
      "    contactname VARCHAR(100), -- contact person's name\n",
      "    address VARCHAR(255), -- supplier's address\n",
      "    city VARCHAR(50), -- city where the supplier is located\n",
      "    country VARCHAR(50), -- country where the supplier is located\n",
      "    phone VARCHAR(15), -- supplier's phone number\n",
      "    email VARCHAR(100) -- supplier's email address\n",
      ")\n",
      "\n",
      "CREATE TABLE products (\n",
      "    categoryid integer, -- categoryid is the unique identifier for each product category\n",
      "    unitprice numeric, -- unit price of the product\n",
      "    stockquantity integer DEFAULT 0, -- initial stock quantity of the product\n",
      "    supplierid integer, -- supplier who owns the product\n",
      "    productid SERIAL PRIMARY KEY, -- unique identifier for each product\n",
      "    productname VARCHAR(100), -- name of the product\n",
      "    description text -- brief description of the product\n",
      ")\n",
      "\n",
      "CREATE TABLE categories (\n",
      "    categoryid SERIAL PRIMARY KEY, -- categoryid is the unique identifier for each category\n",
      "    categoryname VARCHAR(50), -- name of the category\n",
      "    description text -- brief description of the category\n",
      ")\n",
      "\n",
      "CREATE TABLE customers (\n",
      "    customerid SERIAL PRIMARY KEY, -- customerid is the unique identifier for each customer\n",
      "    registrationdate timestamp with time zone DEFAULT CURRENT_TIMESTAMP, -- date when the customer registered\n",
      "    lastname VARCHAR(50), -- last name of the customer\n",
      "    email VARCHAR(100), -- customer's email address\n",
      "    phone VARCHAR(15), -- customer's phone number\n",
      "    address VARCHAR(255), -- customer's address\n",
      "    city VARCHAR(50), -- city where the customer is located\n",
      "    country VARCHAR(50), -- country where the customer is located\n",
      "    firstname VARCHAR(50) -- first name of the customer\n",
      ")\n",
      "\n",
      "CREATE TABLE orders (\n",
      "    orderid SERIAL PRIMARY KEY, -- orderid is the unique identifier for each order\n",
      "    customerid integer, -- customer who placed the order\n",
      "    orderdate timestamp with time zone DEFAULT CURRENT_TIMESTAMP, -- date when the order was placed\n",
      "    totalamount numeric, -- total amount of the order\n",
      "    shippingaddress VARCHAR(255), -- address where the order will be shipped\n",
      "    orderstatus VARCHAR(50) DEFAULT 'Processing'::character varying -- current order status\n",
      ")\n",
      "\n",
      "CREATE TABLE orderdetails (\n",
      "    orderdetailid SERIAL PRIMARY KEY, -- orderdetailid is the unique identifier for each order detail\n",
      "    orderid integer, -- orderid is the unique identifier for the order that this detail belongs to\n",
      "    productid integer, -- productid is the unique identifier for the product being detailed\n",
      "    quantity integer, -- quantity of the product being detailed\n",
      "    unitprice numeric, -- unit price of the product being detailed\n",
      ")\n",
      "\n",
      "CREATE TABLE payments (\n",
      "    paymentid SERIAL PRIMARY KEY, -- paymentid is the unique identifier for each payment\n",
      "    orderid integer, -- orderid is the unique identifier for the order that this payment belongs to\n",
      "    paymentdate timestamp with time zone DEFAULT CURRENT_TIMESTAMP, -- date when the payment was made\n",
      "    amount numeric, -- amount of the payment\n",
      "    paymentmethod VARCHAR(50) -- payment method used (e.g. credit card, PayPal, etc.)\n",
      ")\n",
      "\n",
      "CREATE TABLE customerfeedback (\n",
      "    feedbackid SERIAL PRIMARY KEY, -- feedbackid is the unique identifier for each piece of feedback\n",
      "    customerid integer, -- customerid is the unique identifier for the customer who left the feedback\n",
      "    productid integer, -- productid is the unique identifier for the product being feedbacked on\n",
      "    rating integer, -- rating of the product being feedbacked on (1-5)\n",
      "    feedbackdate timestamp with time zone DEFAULT CURRENT_TIMESTAMP, -- date when the feedback was left\n",
      "    comment text -- brief comment left by the customer\n",
      ")\n",
      "\n",
      "-- products.categoryid can be joined with categories.categoryid\n",
      "-- products.supplierid can be joined with suppliers.supplierid\n",
      "-- orders.customerid can be joined with customers.customerid\n",
      "-- orderdetails.orderid can be joined with orders.orderid\n",
      "-- orderdetails.productid can be joined with products.productid\n",
      "-- payments.orderid can be joined with orders.orderid\n",
      "-- customerfeedback.customerid can be joined with customers.customerid\n",
      "-- customerfeedback.productid can be joined with products.productid\n",
      "\n",
      "\n",
      "### Response:\n",
      "Based on your instructions, here is the SQL query for Postgres I have generated to answer the question `What is the most frequently used payment method ?`:\n",
      "```sql\n",
      "SELECT payments.paymentmethod, COUNT(*) AS COUNT FROM payments GROUP BY payments.paymentmethod ORDER BY COUNT DESC LIMIT 1;\n",
      "````\n"
     ]
    }
   ],
   "source": [
    "print(response)"
   ]
  },
  {
   "cell_type": "code",
   "execution_count": null,
   "id": "3905f9c8-798a-4812-8f48-7620b9182153",
   "metadata": {},
   "outputs": [],
   "source": []
  }
 ],
 "metadata": {
  "kernelspec": {
   "display_name": "Python 3 (ipykernel)",
   "language": "python",
   "name": "python3"
  },
  "language_info": {
   "codemirror_mode": {
    "name": "ipython",
    "version": 3
   },
   "file_extension": ".py",
   "mimetype": "text/x-python",
   "name": "python",
   "nbconvert_exporter": "python",
   "pygments_lexer": "ipython3",
   "version": "3.10.11"
  }
 },
 "nbformat": 4,
 "nbformat_minor": 5
}
