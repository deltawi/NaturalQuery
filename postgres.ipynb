{
 "cells": [
  {
   "cell_type": "code",
   "execution_count": 1,
   "metadata": {},
   "outputs": [],
   "source": [
    "%load_ext autoreload\n",
    "%autoreload 2"
   ]
  },
  {
   "attachments": {},
   "cell_type": "markdown",
   "metadata": {},
   "source": [
    "## DB Setup\n",
    "\n",
    "We assume you already have a postgres database ready."
   ]
  },
  {
   "cell_type": "code",
   "execution_count": 1,
   "metadata": {
    "editable": true,
    "slideshow": {
     "slide_type": ""
    },
    "tags": []
   },
   "outputs": [],
   "source": [
    "DATABASE = \"postgres\"\n",
    "USER = \"postgres\"\n",
    "PASSWORD = \"mysecretpassword\"\n",
    "HOST = \"localhost\"\n",
    "PORT = 5432\n",
    "TABLES = []  # list of tables to load or [] to load all tables"
   ]
  },
  {
   "cell_type": "code",
   "execution_count": 2,
   "metadata": {
    "editable": true,
    "slideshow": {
     "slide_type": ""
    },
    "tags": []
   },
   "outputs": [
    {
     "name": "stdout",
     "output_type": "stream",
     "text": [
      "Loading tables: ['companies', 'stores', 'categories', 'products', 'inventory', 'restocks', 'transactions', 'productdemandforecast']\n"
     ]
    }
   ],
   "source": [
    "from db_connectors import PostgresConnector\n",
    "from prompt_formatters import RajkumarFormatter, SqlCoderFormatter\n",
    "\n",
    "# Get the connector and formatter\n",
    "postgres_connector = PostgresConnector(\n",
    "    user=USER, password=PASSWORD, dbname=DATABASE, host=HOST, port=PORT\n",
    ")\n",
    "postgres_connector.connect()\n",
    "if len(TABLES) <= 0:\n",
    "    TABLES.extend(postgres_connector.get_tables())\n",
    "\n",
    "print(f\"Loading tables: {TABLES}\")\n",
    "\n",
    "db_schema = [postgres_connector.get_schema(table) for table in TABLES]\n",
    "formatter = SqlCoderFormatter(db_schema)"
   ]
  },
  {
   "cell_type": "markdown",
   "metadata": {},
   "source": [
    "## Using LLama-2-7b-chat to enhance the SQL definition"
   ]
  },
  {
   "cell_type": "code",
   "execution_count": 2,
   "metadata": {
    "scrolled": true
   },
   "outputs": [
    {
     "name": "stdout",
     "output_type": "stream",
     "text": [
      "\u001b[33mWARNING: Running pip as the 'root' user can result in broken permissions and conflicting behaviour with the system package manager. It is recommended to use a virtual environment instead: https://pip.pypa.io/warnings/venv\u001b[0m\u001b[33m\n",
      "\u001b[0mNote: you may need to restart the kernel to use updated packages.\n"
     ]
    }
   ],
   "source": [
    "pip install -q transformers pandas"
   ]
  },
  {
   "cell_type": "code",
   "execution_count": null,
   "metadata": {},
   "outputs": [],
   "source": [
    "!huggingface-cli login"
   ]
  },
  {
   "cell_type": "code",
   "execution_count": 1,
   "metadata": {
    "collapsed": true,
    "editable": true,
    "jupyter": {
     "outputs_hidden": true
    },
    "slideshow": {
     "slide_type": ""
    },
    "tags": []
   },
   "outputs": [
    {
     "name": "stdout",
     "output_type": "stream",
     "text": [
      "\n",
      "<s>[INST] <<SYS>>\n",
      "You are an assistant to a SQL developer. He gives a SQL database definition and you give him back the same SQL with comments that explain each column. For example : \"company_id SERIAL PRIMARY KEY,\" becomes \"company_id SERIAL PRIMARY KEY, -- company_id is the company unique ID\". \n",
      "- It is important to keep all existing comments in the given SQL.\n",
      "- Do not remove something from the SQL, just add to it.\n",
      "- Add comments to all columns of each table.\n",
      "- If a column name is an abreviation try to give a description of it.\n",
      "<</SYS>>\n",
      "\n",
      "Below is an SQL table definition: \n",
      "```sql\n",
      "CREATE TABLE suppliers (\n",
      "supplierid SERIAL PRIMARY KEY,\n",
      "suppliername VARCHAR(100),\n",
      "contactname VARCHAR(100),\n",
      "address VARCHAR(255),\n",
      "city VARCHAR(50),\n",
      "country VARCHAR(50),\n",
      "phone VARCHAR(15),\n",
      "email VARCHAR(100)\n",
      ")\n",
      "\n",
      "CREATE TABLE products (\n",
      "categoryid integer,\n",
      "unitprice numeric,\n",
      "stockquantity integer DEFAULT 0,\n",
      "supplierid integer,\n",
      "productid SERIAL PRIMARY KEY,\n",
      "productname VARCHAR(100),\n",
      "description text\n",
      ")\n",
      "\n",
      "CREATE TABLE categories (\n",
      "categoryid SERIAL PRIMARY KEY,\n",
      "categoryname VARCHAR(50),\n",
      "description text\n",
      ")\n",
      "\n",
      "CREATE TABLE customers (\n",
      "customerid SERIAL PRIMARY KEY,\n",
      "registrationdate timestamp with time zone DEFAULT CURRENT_TIMESTAMP,\n",
      "lastname VARCHAR(50),\n",
      "email VARCHAR(100),\n",
      "phone VARCHAR(15),\n",
      "address VARCHAR(255),\n",
      "city VARCHAR(50),\n",
      "country VARCHAR(50),\n",
      "firstname VARCHAR(50)\n",
      ")\n",
      "\n",
      "CREATE TABLE orders (\n",
      "orderid SERIAL PRIMARY KEY,\n",
      "customerid integer,\n",
      "orderdate timestamp with time zone DEFAULT CURRENT_TIMESTAMP,\n",
      "totalamount numeric,\n",
      "shippingaddress VARCHAR(255),\n",
      "orderstatus VARCHAR(50) DEFAULT 'Processing'::character varying\n",
      ")\n",
      "\n",
      "CREATE TABLE orderdetails (\n",
      "orderdetailid SERIAL PRIMARY KEY,\n",
      "orderid integer,\n",
      "productid integer,\n",
      "quantity integer,\n",
      "unitprice numeric\n",
      ")\n",
      "\n",
      "CREATE TABLE payments (\n",
      "paymentid SERIAL PRIMARY KEY,\n",
      "orderid integer,\n",
      "paymentdate timestamp with time zone DEFAULT CURRENT_TIMESTAMP,\n",
      "amount numeric,\n",
      "paymentmethod VARCHAR(50)\n",
      ")\n",
      "\n",
      "CREATE TABLE customerfeedback (\n",
      "feedbackid SERIAL PRIMARY KEY,\n",
      "customerid integer,\n",
      "productid integer,\n",
      "rating integer,\n",
      "feedbackdate timestamp with time zone DEFAULT CURRENT_TIMESTAMP,\n",
      "comment text\n",
      ")\n",
      "\n",
      "-- products.categoryid can be joined with categories.categoryid\n",
      "-- products.supplierid can be joined with suppliers.supplierid\n",
      "-- orders.customerid can be joined with customers.customerid\n",
      "-- orderdetails.orderid can be joined with orders.orderid\n",
      "-- orderdetails.productid can be joined with products.productid\n",
      "-- payments.orderid can be joined with orders.orderid\n",
      "-- customerfeedback.customerid can be joined with customers.customerid\n",
      "-- customerfeedback.productid can be joined with products.productid\n",
      "``` [/INST]\n",
      "\n",
      "Loading model...\n",
      "Using device cuda.\n"
     ]
    },
    {
     "data": {
      "application/vnd.jupyter.widget-view+json": {
       "model_id": "30411e595bc74b6ebd07bcc07506b28e",
       "version_major": 2,
       "version_minor": 0
      },
      "text/plain": [
       "Loading checkpoint shards:   0%|          | 0/2 [00:00<?, ?it/s]"
      ]
     },
     "metadata": {},
     "output_type": "display_data"
    },
    {
     "name": "stdout",
     "output_type": "stream",
     "text": [
      "Tokenizing....\n",
      "Generating...\n"
     ]
    }
   ],
   "source": [
    "%%time\n",
    "from llm_utils import *\n",
    "from prompt_formatters import SqlCoderFormatter\n",
    "formatter = SqlCoderFormatter([])\n",
    "# Reading from the file\n",
    "with open(\"sample_table_str_raw.txt\", 'r') as file:\n",
    "    formatter.table_str = file.read()\n",
    "from prompt_formatters import SqlCoderFormatter\n",
    "formatter.table_str = add_comment_to_sql(formatter.table_str, debug=True)"
   ]
  },
  {
   "cell_type": "code",
   "execution_count": 4,
   "metadata": {},
   "outputs": [
    {
     "name": "stdout",
     "output_type": "stream",
     "text": [
      "\n",
      "CREATE TABLE suppliers (\n",
      "    supplierid SERIAL PRIMARY KEY, -- supplierid is the unique identifier for a supplier\n",
      "    suppliername VARCHAR(100), -- supplier name\n",
      "    contactname VARCHAR(100), -- contact person's name\n",
      "    address VARCHAR(255), -- supplier's address\n",
      "    city VARCHAR(50), -- city where the supplier is located\n",
      "    country VARCHAR(50), -- country where the supplier is located\n",
      "    phone VARCHAR(15), -- supplier's phone number\n",
      "    email VARCHAR(100) -- supplier's email address\n",
      ")\n",
      "\n",
      "CREATE TABLE products (\n",
      "    categoryid integer, -- categoryid is the unique identifier for a product category\n",
      "    unitprice numeric, -- unit price of the product\n",
      "    stockquantity integer DEFAULT 0, -- initial stock quantity of the product\n",
      "    supplierid integer, -- supplier ID associated with the product\n",
      "    productid SERIAL PRIMARY KEY, -- unique identifier for each product\n",
      "    productname VARCHAR(100), -- product name\n",
      "    description text -- product description\n",
      ")\n",
      "\n",
      "CREATE TABLE categories (\n",
      "    categoryid SERIAL PRIMARY KEY, -- categoryid is the unique identifier for a category\n",
      "    categoryname VARCHAR(50), -- category name\n",
      "    description text -- category description\n",
      ")\n",
      "\n",
      "CREATE TABLE customers (\n",
      "    customerid SERIAL PRIMARY KEY, -- customer ID is the unique identifier for a customer\n",
      "    registrationdate timestamp with time zone DEFAULT CURRENT_TIMESTAMP, -- registration date of the customer\n",
      "    lastname VARCHAR(50), -- customer's last name\n",
      "    email VARCHAR(100), -- customer's email address\n",
      "    phone VARCHAR(15), -- customer's phone number\n",
      "    address VARCHAR(255), -- customer's address\n",
      "    city VARCHAR(50), -- city where the customer is located\n",
      "    country VARCHAR(50), -- country where the customer is located\n",
      "    firstname VARCHAR(50) -- customer's first name\n",
      ")\n",
      "\n",
      "CREATE TABLE orders (\n",
      "    orderid SERIAL PRIMARY KEY, -- order ID is the unique identifier for an order\n",
      "    customerid integer, -- customer ID associated with the order\n",
      "    orderdate timestamp with time zone DEFAULT CURRENT_TIMESTAMP, -- order date and time\n",
      "    totalamount numeric, -- total amount of the order\n",
      "    shippingaddress VARCHAR(255), -- shipping address of the order\n",
      "    orderstatus VARCHAR(50) DEFAULT 'Processing'::character varying -- order status (e.g. \"Processing\", \"Shipped\", \"Delivered\", etc.)\n",
      ")\n",
      "\n",
      "CREATE TABLE orderdetails (\n",
      "    orderdetailid SERIAL PRIMARY KEY, -- unique identifier for each order detail\n",
      "    orderid integer, -- order ID associated with the order detail\n",
      "    productid integer, -- product ID associated with the order detail\n",
      "    quantity integer, -- quantity of the product in the order\n",
      "    unitprice numeric, -- unit price of the product in the order\n",
      ")\n",
      "\n",
      "CREATE TABLE payments (\n",
      "    paymentid SERIAL PRIMARY KEY, -- unique identifier for each payment\n",
      "    orderid integer, -- order ID associated with the payment\n",
      "    paymentdate timestamp with time zone DEFAULT CURRENT_TIMESTAMP, -- payment date and time\n",
      "    amount numeric, -- amount of the payment\n",
      "    paymentmethod VARCHAR(50) -- payment method (e.g. \"Credit Card\", \"PayPal\", etc.)\n",
      ")\n",
      "\n",
      "CREATE TABLE customerfeedback (\n",
      "    feedbackid SERIAL PRIMARY KEY, -- unique identifier for each piece of feedback\n",
      "    customerid integer, -- customer ID associated with the feedback\n",
      "    productid integer, -- product ID associated with the feedback\n",
      "    rating integer, -- rating of the product (e.g. 1-5)\n",
      "    feedbackdate timestamp with time zone DEFAULT CURRENT_TIMESTAMP, -- date and time of the feedback\n",
      "    comment text -- customer's feedback comment\n",
      ")\n",
      "\n",
      "-- products.categoryid can be joined with categories.categoryid\n",
      "-- products.supplierid can be joined with suppliers.supplierid\n",
      "-- orders.customerid can be joined with customers.customerid\n",
      "-- orderdetails.orderid can be joined with orders.orderid\n",
      "-- orderdetails.productid can be joined with products.productid\n",
      "-- payments.orderid can be joined with orders.orderid\n",
      "-- customerfeedback.customerid can be joined with customers.customerid\n",
      "-- customerfeedback.productid can be joined with products.productid\n",
      "\n"
     ]
    }
   ],
   "source": [
    "print(formatter.table_str)"
   ]
  },
  {
   "cell_type": "code",
   "execution_count": 4,
   "metadata": {
    "collapsed": true,
    "editable": true,
    "jupyter": {
     "outputs_hidden": true,
     "source_hidden": true
    },
    "scrolled": true,
    "slideshow": {
     "slide_type": ""
    },
    "tags": []
   },
   "outputs": [
    {
     "name": "stderr",
     "output_type": "stream",
     "text": [
      "/Users/mehditantaoui/Documents/Challenges/GenAI-SQL/NSQL/.venv/lib/python3.9/site-packages/tqdm/auto.py:21: TqdmWarning: IProgress not found. Please update jupyter and ipywidgets. See https://ipywidgets.readthedocs.io/en/stable/user_install.html\n",
      "  from .autonotebook import tqdm as notebook_tqdm\n"
     ]
    },
    {
     "name": "stdout",
     "output_type": "stream",
     "text": [
      "Loading model...\n",
      "Using device mps.\n"
     ]
    },
    {
     "name": "stderr",
     "output_type": "stream",
     "text": [
      "Loading checkpoint shards: 100%|██████████| 2/2 [00:07<00:00,  3.74s/it]\n"
     ]
    },
    {
     "name": "stdout",
     "output_type": "stream",
     "text": [
      "Tokenizing....\n",
      "Generating...\n",
      "\n",
      "CREATE TABLE companies (\n",
      "company_id SERIAL PRIMARY KEY,\n",
      "company_name VARCHAR(255) -- company_id is the company unique ID\n",
      ")\n",
      "\n",
      "CREATE TABLE stores (\n",
      "company_id integer, -- foreign key referencing companies.company_id\n",
      "store_id VARCHAR(255) PRIMARY KEY, -- store_id is the store unique ID\n",
      "store_name VARCHAR(255), -- name of the store\n",
      "address text, -- address of the store\n",
      "phone_number VARCHAR(20) -- phone number of the store\n",
      ")\n",
      "\n",
      "CREATE TABLE categories (\n",
      "category_id VARCHAR(255) PRIMARY KEY, -- category_id is the category unique ID\n",
      "category_name_en VARCHAR(255) -- name of the category in English\n",
      ")\n",
      "\n",
      "CREATE TABLE products (\n",
      "product_id VARCHAR(255) PRIMARY KEY, -- product_id is the product unique ID\n",
      "article_id VARCHAR(255), -- article number of the product\n",
      "product_name_en VARCHAR(255), -- name of the product in English\n",
      "uom VARCHAR(50), -- unit of measurement for the product\n",
      "buom VARCHAR(50), -- bought quantity of the product\n",
      "category_id VARCHAR(255), -- foreign key referencing categories.category_id\n",
      "brand VARCHAR(255), -- brand of the product\n",
      "gtin VARCHAR(255), -- global trade item number of the product\n",
      "varient_en VARCHAR(255) -- variant of the product in English\n",
      ")\n",
      "\n",
      "CREATE TABLE inventory (\n",
      "inventory_id SERIAL PRIMARY KEY, -- inventory_id is the inventory unique ID\n",
      "current_stock integer, -- current stock of the product\n",
      "last_updated TIMESTAMP DEFAULT (now() AT TIME ZONE 'UTC'::text), -- last updated date and time of the inventory\n",
      "store_id VARCHAR(255), -- foreign key referencing stores.store_id\n",
      "product_id VARCHAR(255), -- foreign key referencing products.product_id\n",
      ")\n",
      "\n",
      "CREATE TABLE restocks (\n",
      "restock_id SERIAL PRIMARY KEY, -- restock_id is the restock unique ID\n",
      "inventory_id integer, -- foreign key referencing inventory.inventory_id\n",
      "restocked_quantity integer, -- quantity of the product restocked\n",
      "restock_date TIMESTORM DEFAULT (now() AT TIME ZONE 'UTC'::text), -- date and time of the restock\n",
      ")\n",
      "\n",
      "CREATE TABLE transactions (\n",
      "transaction_id SERIAL PRIMARY KEY, -- transaction_id is the transaction unique ID\n",
      "inventory_id integer, -- foreign key referencing inventory.inventory_id\n",
      "date TIMESTAMP DEFAULT (now() AT TIME ZONE 'UTC'::text), -- date of the transaction\n",
      "quantity_sold integer, -- quantity of the product sold\n",
      "price double precision, -- price of the product sold\n",
      "discount double precision, -- discount percentage of the product sold\n",
      "tax double precision, -- tax percentage of the product sold\n",
      ")\n",
      "\n",
      "CREATE TABLE productdemandforecast (\n",
      "forecast_id SERIAL PRIMARY KEY, -- forecast_id is the forecast unique ID\n",
      "forecast_date date, -- date of the forecast\n",
      "forecasted_demand integer, -- forecasted demand of the product\n",
      "product_id VARCHAR(255), -- foreign key referencing products.product_id\n",
      ")\n",
      "\n",
      "-- stores.company_id can be joined with companies.company_id\n",
      "-- products.category_id can be joined with categories.category_id\n",
      "-- inventory.store_id can be joined with stores.store_id\n",
      "-- inventory.product_id can be joined with products.product_id\n",
      "-- restocks.inventory_id can be joined with inventory.inventory_id\n",
      "-- transactions.inventory_id can be joined with inventory.inventory_id\n",
      "-- productdemandforecast.product_id can be joined with products.product_id\n",
      "\n"
     ]
    }
   ],
   "source": [
    "from llm_utils import *\n",
    "\n",
    "formatter.table_str = add_comment_to_sql(formatter.table_str)\n",
    "print(formatter.table_str)"
   ]
  },
  {
   "cell_type": "code",
   "execution_count": 5,
   "metadata": {},
   "outputs": [],
   "source": [
    "# Writing to the file\n",
    "with open(\"sample_table_str.txt\", 'w') as file:\n",
    "    file.write(formatter.table_str)"
   ]
  },
  {
   "cell_type": "code",
   "execution_count": 12,
   "metadata": {
    "collapsed": true,
    "editable": true,
    "jupyter": {
     "outputs_hidden": true
    },
    "scrolled": true,
    "slideshow": {
     "slide_type": ""
    },
    "tags": []
   },
   "outputs": [
    {
     "name": "stderr",
     "output_type": "stream",
     "text": [
      "huggingface/tokenizers: The current process just got forked, after parallelism has already been used. Disabling parallelism to avoid deadlocks...\n",
      "To disable this warning, you can either:\n",
      "\t- Avoid using `tokenizers` before the fork if possible\n",
      "\t- Explicitly set the environment variable TOKENIZERS_PARALLELISM=(true | false)\n"
     ]
    },
    {
     "name": "stdout",
     "output_type": "stream",
     "text": [
      "Collecting gradio\n",
      "  Downloading gradio-4.12.0-py3-none-any.whl (16.6 MB)\n",
      "\u001b[2K     \u001b[90m━━━━━━━━━━━━━━━━━━━━━━━━━━━━━━━━━━━━━━━━\u001b[0m \u001b[32m16.6/16.6 MB\u001b[0m \u001b[31m55.4 MB/s\u001b[0m eta \u001b[36m0:00:00\u001b[0m00:01\u001b[0m00:01\u001b[0m\n",
      "\u001b[?25hRequirement already satisfied: typing-extensions in /opt/conda/lib/python3.10/site-packages (4.9.0)\n",
      "Collecting matplotlib~=3.0\n",
      "  Downloading matplotlib-3.8.2-cp310-cp310-manylinux_2_17_x86_64.manylinux2014_x86_64.whl (11.6 MB)\n",
      "\u001b[2K     \u001b[90m━━━━━━━━━━━━━━━━━━━━━━━━━━━━━━━━━━━━━━━━\u001b[0m \u001b[32m11.6/11.6 MB\u001b[0m \u001b[31m64.7 MB/s\u001b[0m eta \u001b[36m0:00:00\u001b[0m00:01\u001b[0m0:01\u001b[0mm\n",
      "\u001b[?25hRequirement already satisfied: pydantic>=2.0 in /opt/conda/lib/python3.10/site-packages (from gradio) (2.5.3)\n",
      "Requirement already satisfied: markupsafe~=2.0 in /opt/conda/lib/python3.10/site-packages (from gradio) (2.1.1)\n",
      "Collecting fastapi\n",
      "  Downloading fastapi-0.105.0-py3-none-any.whl (93 kB)\n",
      "\u001b[2K     \u001b[90m━━━━━━━━━━━━━━━━━━━━━━━━━━━━━━━━━━━━━━━━\u001b[0m \u001b[32m93.1/93.1 kB\u001b[0m \u001b[31m9.9 MB/s\u001b[0m eta \u001b[36m0:00:00\u001b[0m\n",
      "\u001b[?25hCollecting orjson~=3.0\n",
      "  Downloading orjson-3.9.10-cp310-cp310-manylinux_2_17_x86_64.manylinux2014_x86_64.whl (138 kB)\n",
      "\u001b[2K     \u001b[90m━━━━━━━━━━━━━━━━━━━━━━━━━━━━━━━━━━━━━━\u001b[0m \u001b[32m138.7/138.7 kB\u001b[0m \u001b[31m12.3 MB/s\u001b[0m eta \u001b[36m0:00:00\u001b[0m\n",
      "\u001b[?25hRequirement already satisfied: pandas<3.0,>=1.0 in /opt/conda/lib/python3.10/site-packages (from gradio) (2.1.4)\n",
      "Requirement already satisfied: huggingface-hub>=0.19.3 in /opt/conda/lib/python3.10/site-packages (from gradio) (0.20.1)\n",
      "Collecting python-multipart\n",
      "  Downloading python_multipart-0.0.6-py3-none-any.whl (45 kB)\n",
      "\u001b[2K     \u001b[90m━━━━━━━━━━━━━━━━━━━━━━━━━━━━━━━━━━━━━━━━\u001b[0m \u001b[32m45.7/45.7 kB\u001b[0m \u001b[31m10.8 MB/s\u001b[0m eta \u001b[36m0:00:00\u001b[0m\n",
      "\u001b[?25hCollecting pydub\n",
      "  Downloading pydub-0.25.1-py2.py3-none-any.whl (32 kB)\n",
      "Collecting importlib-resources<7.0,>=1.3\n",
      "  Downloading importlib_resources-6.1.1-py3-none-any.whl (33 kB)\n",
      "Collecting gradio-client==0.8.0\n",
      "  Downloading gradio_client-0.8.0-py3-none-any.whl (305 kB)\n",
      "\u001b[2K     \u001b[90m━━━━━━━━━━━━━━━━━━━━━━━━━━━━━━━━━━━━━━\u001b[0m \u001b[32m305.1/305.1 kB\u001b[0m \u001b[31m26.4 MB/s\u001b[0m eta \u001b[36m0:00:00\u001b[0m\n",
      "\u001b[?25hCollecting altair<6.0,>=4.2.0\n",
      "  Downloading altair-5.2.0-py3-none-any.whl (996 kB)\n",
      "\u001b[2K     \u001b[90m━━━━━━━━━━━━━━━━━━━━━━━━━━━━━━━━━━━━━━\u001b[0m \u001b[32m996.9/996.9 kB\u001b[0m \u001b[31m63.8 MB/s\u001b[0m eta \u001b[36m0:00:00\u001b[0m\n",
      "\u001b[?25hCollecting tomlkit==0.12.0\n",
      "  Downloading tomlkit-0.12.0-py3-none-any.whl (37 kB)\n",
      "Collecting ffmpy\n",
      "  Downloading ffmpy-0.3.1.tar.gz (5.5 kB)\n",
      "  Preparing metadata (setup.py) ... \u001b[?25ldone\n",
      "\u001b[?25hRequirement already satisfied: jinja2<4.0 in /opt/conda/lib/python3.10/site-packages (from gradio) (3.1.2)\n",
      "Requirement already satisfied: pillow<11.0,>=8.0 in /opt/conda/lib/python3.10/site-packages (from gradio) (9.4.0)\n",
      "Requirement already satisfied: packaging in /opt/conda/lib/python3.10/site-packages (from gradio) (23.0)\n",
      "Collecting semantic-version~=2.0\n",
      "  Downloading semantic_version-2.10.0-py2.py3-none-any.whl (15 kB)\n",
      "Collecting httpx\n",
      "  Downloading httpx-0.26.0-py3-none-any.whl (75 kB)\n",
      "\u001b[2K     \u001b[90m━━━━━━━━━━━━━━━━━━━━━━━━━━━━━━━━━━━━━━━━\u001b[0m \u001b[32m75.9/75.9 kB\u001b[0m \u001b[31m6.6 MB/s\u001b[0m eta \u001b[36m0:00:00\u001b[0m\n",
      "\u001b[?25hCollecting typer[all]<1.0,>=0.9\n",
      "  Downloading typer-0.9.0-py3-none-any.whl (45 kB)\n",
      "\u001b[2K     \u001b[90m━━━━━━━━━━━━━━━━━━━━━━━━━━━━━━━━━━━━━━━━\u001b[0m \u001b[32m45.9/45.9 kB\u001b[0m \u001b[31m11.3 MB/s\u001b[0m eta \u001b[36m0:00:00\u001b[0m\n",
      "\u001b[?25hCollecting aiofiles<24.0,>=22.0\n",
      "  Downloading aiofiles-23.2.1-py3-none-any.whl (15 kB)\n",
      "Requirement already satisfied: numpy~=1.0 in /opt/conda/lib/python3.10/site-packages (from gradio) (1.24.3)\n",
      "Collecting uvicorn>=0.14.0\n",
      "  Downloading uvicorn-0.25.0-py3-none-any.whl (60 kB)\n",
      "\u001b[2K     \u001b[90m━━━━━━━━━━━━━━━━━━━━━━━━━━━━━━━━━━━━━━━━\u001b[0m \u001b[32m60.3/60.3 kB\u001b[0m \u001b[31m5.3 MB/s\u001b[0m eta \u001b[36m0:00:00\u001b[0m\n",
      "\u001b[?25hRequirement already satisfied: pyyaml<7.0,>=5.0 in /opt/conda/lib/python3.10/site-packages (from gradio) (6.0)\n",
      "Requirement already satisfied: fsspec in /opt/conda/lib/python3.10/site-packages (from gradio-client==0.8.0->gradio) (2023.12.2)\n",
      "Collecting websockets<12.0,>=10.0\n",
      "  Downloading websockets-11.0.3-cp310-cp310-manylinux_2_5_x86_64.manylinux1_x86_64.manylinux_2_17_x86_64.manylinux2014_x86_64.whl (129 kB)\n",
      "\u001b[2K     \u001b[90m━━━━━━━━━━━━━━━━━━━━━━━━━━━━━━━━━━━━━━\u001b[0m \u001b[32m129.9/129.9 kB\u001b[0m \u001b[31m13.0 MB/s\u001b[0m eta \u001b[36m0:00:00\u001b[0m\n",
      "\u001b[?25hRequirement already satisfied: jsonschema>=3.0 in /opt/conda/lib/python3.10/site-packages (from altair<6.0,>=4.2.0->gradio) (4.20.0)\n",
      "Requirement already satisfied: toolz in /opt/conda/lib/python3.10/site-packages (from altair<6.0,>=4.2.0->gradio) (0.12.0)\n",
      "Requirement already satisfied: requests in /opt/conda/lib/python3.10/site-packages (from huggingface-hub>=0.19.3->gradio) (2.31.0)\n",
      "Requirement already satisfied: tqdm>=4.42.1 in /opt/conda/lib/python3.10/site-packages (from huggingface-hub>=0.19.3->gradio) (4.65.0)\n",
      "Requirement already satisfied: filelock in /opt/conda/lib/python3.10/site-packages (from huggingface-hub>=0.19.3->gradio) (3.9.0)\n",
      "Collecting pyparsing>=2.3.1\n",
      "  Downloading pyparsing-3.1.1-py3-none-any.whl (103 kB)\n",
      "\u001b[2K     \u001b[90m━━━━━━━━━━━━━━━━━━━━━━━━━━━━━━━━━━━━━━\u001b[0m \u001b[32m103.1/103.1 kB\u001b[0m \u001b[31m10.4 MB/s\u001b[0m eta \u001b[36m0:00:00\u001b[0m\n",
      "\u001b[?25hCollecting contourpy>=1.0.1\n",
      "  Downloading contourpy-1.2.0-cp310-cp310-manylinux_2_17_x86_64.manylinux2014_x86_64.whl (310 kB)\n",
      "\u001b[2K     \u001b[90m━━━━━━━━━━━━━━━━━━━━━━━━━━━━━━━━━━━━━━\u001b[0m \u001b[32m310.7/310.7 kB\u001b[0m \u001b[31m26.5 MB/s\u001b[0m eta \u001b[36m0:00:00\u001b[0m\n",
      "\u001b[?25hCollecting fonttools>=4.22.0\n",
      "  Downloading fonttools-4.47.0-cp310-cp310-manylinux_2_17_x86_64.manylinux2014_x86_64.whl (4.6 MB)\n",
      "\u001b[2K     \u001b[90m━━━━━━━━━━━━━━━━━━━━━━━━━━━━━━━━━━━━━━━━\u001b[0m \u001b[32m4.6/4.6 MB\u001b[0m \u001b[31m66.3 MB/s\u001b[0m eta \u001b[36m0:00:00\u001b[0ma \u001b[36m0:00:01\u001b[0m\n",
      "\u001b[?25hCollecting cycler>=0.10\n",
      "  Downloading cycler-0.12.1-py3-none-any.whl (8.3 kB)\n",
      "Collecting kiwisolver>=1.3.1\n",
      "  Downloading kiwisolver-1.4.5-cp310-cp310-manylinux_2_12_x86_64.manylinux2010_x86_64.whl (1.6 MB)\n",
      "\u001b[2K     \u001b[90m━━━━━━━━━━━━━━━━━━━━━━━━━━━━━━━━━━━━━━━━\u001b[0m \u001b[32m1.6/1.6 MB\u001b[0m \u001b[31m60.1 MB/s\u001b[0m eta \u001b[36m0:00:00\u001b[0m\n",
      "\u001b[?25hRequirement already satisfied: python-dateutil>=2.7 in /opt/conda/lib/python3.10/site-packages (from matplotlib~=3.0->gradio) (2.8.2)\n",
      "Requirement already satisfied: tzdata>=2022.1 in /opt/conda/lib/python3.10/site-packages (from pandas<3.0,>=1.0->gradio) (2023.3)\n",
      "Requirement already satisfied: pytz>=2020.1 in /opt/conda/lib/python3.10/site-packages (from pandas<3.0,>=1.0->gradio) (2022.7)\n",
      "Requirement already satisfied: pydantic-core==2.14.6 in /opt/conda/lib/python3.10/site-packages (from pydantic>=2.0->gradio) (2.14.6)\n",
      "Requirement already satisfied: annotated-types>=0.4.0 in /opt/conda/lib/python3.10/site-packages (from pydantic>=2.0->gradio) (0.6.0)\n",
      "Collecting click<9.0.0,>=7.1.1\n",
      "  Downloading click-8.1.7-py3-none-any.whl (97 kB)\n",
      "\u001b[2K     \u001b[90m━━━━━━━━━━━━━━━━━━━━━━━━━━━━━━━━━━━━━━━━\u001b[0m \u001b[32m97.9/97.9 kB\u001b[0m \u001b[31m9.1 MB/s\u001b[0m eta \u001b[36m0:00:00\u001b[0m\n",
      "\u001b[?25hCollecting rich<14.0.0,>=10.11.0\n",
      "  Downloading rich-13.7.0-py3-none-any.whl (240 kB)\n",
      "\u001b[2K     \u001b[90m━━━━━━━━━━━━━━━━━━━━━━━━━━━━━━━━━━━━━━\u001b[0m \u001b[32m240.6/240.6 kB\u001b[0m \u001b[31m19.6 MB/s\u001b[0m eta \u001b[36m0:00:00\u001b[0m\n",
      "\u001b[?25hCollecting colorama<0.5.0,>=0.4.3\n",
      "  Downloading colorama-0.4.6-py2.py3-none-any.whl (25 kB)\n",
      "Collecting shellingham<2.0.0,>=1.3.0\n",
      "  Downloading shellingham-1.5.4-py2.py3-none-any.whl (9.8 kB)\n",
      "Collecting h11>=0.8\n",
      "  Downloading h11-0.14.0-py3-none-any.whl (58 kB)\n",
      "\u001b[2K     \u001b[90m━━━━━━━━━━━━━━━━━━━━━━━━━━━━━━━━━━━━━━━━\u001b[0m \u001b[32m58.3/58.3 kB\u001b[0m \u001b[31m17.2 MB/s\u001b[0m eta \u001b[36m0:00:00\u001b[0m\n",
      "\u001b[?25hCollecting anyio<4.0.0,>=3.7.1\n",
      "  Downloading anyio-3.7.1-py3-none-any.whl (80 kB)\n",
      "\u001b[2K     \u001b[90m━━━━━━━━━━━━━━━━━━━━━━━━━━━━━━━━━━━━━━━━\u001b[0m \u001b[32m80.9/80.9 kB\u001b[0m \u001b[31m6.2 MB/s\u001b[0m eta \u001b[36m0:00:00\u001b[0m\n",
      "\u001b[?25hCollecting starlette<0.28.0,>=0.27.0\n",
      "  Downloading starlette-0.27.0-py3-none-any.whl (66 kB)\n",
      "\u001b[2K     \u001b[90m━━━━━━━━━━━━━━━━━━━━━━━━━━━━━━━━━━━━━━━━\u001b[0m \u001b[32m67.0/67.0 kB\u001b[0m \u001b[31m6.6 MB/s\u001b[0m eta \u001b[36m0:00:00\u001b[0m\n",
      "\u001b[?25hRequirement already satisfied: sniffio in /opt/conda/lib/python3.10/site-packages (from httpx->gradio) (1.3.0)\n",
      "Requirement already satisfied: idna in /opt/conda/lib/python3.10/site-packages (from httpx->gradio) (3.4)\n",
      "Requirement already satisfied: certifi in /opt/conda/lib/python3.10/site-packages (from httpx->gradio) (2023.5.7)\n",
      "Collecting httpcore==1.*\n",
      "  Downloading httpcore-1.0.2-py3-none-any.whl (76 kB)\n",
      "\u001b[2K     \u001b[90m━━━━━━━━━━━━━━━━━━━━━━━━━━━━━━━━━━━━━━━━\u001b[0m \u001b[32m76.9/76.9 kB\u001b[0m \u001b[31m7.1 MB/s\u001b[0m eta \u001b[36m0:00:00\u001b[0m\n",
      "\u001b[?25hRequirement already satisfied: exceptiongroup in /opt/conda/lib/python3.10/site-packages (from anyio<4.0.0,>=3.7.1->fastapi->gradio) (1.1.1)\n",
      "Requirement already satisfied: jsonschema-specifications>=2023.03.6 in /opt/conda/lib/python3.10/site-packages (from jsonschema>=3.0->altair<6.0,>=4.2.0->gradio) (2023.11.2)\n",
      "Requirement already satisfied: rpds-py>=0.7.1 in /opt/conda/lib/python3.10/site-packages (from jsonschema>=3.0->altair<6.0,>=4.2.0->gradio) (0.13.2)\n",
      "Requirement already satisfied: attrs>=22.2.0 in /opt/conda/lib/python3.10/site-packages (from jsonschema>=3.0->altair<6.0,>=4.2.0->gradio) (23.1.0)\n",
      "Requirement already satisfied: referencing>=0.28.4 in /opt/conda/lib/python3.10/site-packages (from jsonschema>=3.0->altair<6.0,>=4.2.0->gradio) (0.32.0)\n",
      "Requirement already satisfied: six>=1.5 in /opt/conda/lib/python3.10/site-packages (from python-dateutil>=2.7->matplotlib~=3.0->gradio) (1.16.0)\n",
      "Collecting markdown-it-py>=2.2.0\n",
      "  Downloading markdown_it_py-3.0.0-py3-none-any.whl (87 kB)\n",
      "\u001b[2K     \u001b[90m━━━━━━━━━━━━━━━━━━━━━━━━━━━━━━━━━━━━━━━━\u001b[0m \u001b[32m87.5/87.5 kB\u001b[0m \u001b[31m15.7 MB/s\u001b[0m eta \u001b[36m0:00:00\u001b[0m\n",
      "\u001b[?25hRequirement already satisfied: pygments<3.0.0,>=2.13.0 in /opt/conda/lib/python3.10/site-packages (from rich<14.0.0,>=10.11.0->typer[all]<1.0,>=0.9->gradio) (2.15.1)\n",
      "Requirement already satisfied: urllib3<3,>=1.21.1 in /opt/conda/lib/python3.10/site-packages (from requests->huggingface-hub>=0.19.3->gradio) (1.26.15)\n",
      "Requirement already satisfied: charset-normalizer<4,>=2 in /opt/conda/lib/python3.10/site-packages (from requests->huggingface-hub>=0.19.3->gradio) (2.0.4)\n",
      "Collecting mdurl~=0.1\n",
      "  Downloading mdurl-0.1.2-py3-none-any.whl (10.0 kB)\n",
      "Building wheels for collected packages: ffmpy\n",
      "  Building wheel for ffmpy (setup.py) ... \u001b[?25ldone\n",
      "\u001b[?25h  Created wheel for ffmpy: filename=ffmpy-0.3.1-py3-none-any.whl size=5580 sha256=7b524919bc363ba7d481f0a518b5b0d2f8a58018589c30039a028efc293ee606\n",
      "  Stored in directory: /root/.cache/pip/wheels/01/a6/d1/1c0828c304a4283b2c1639a09ad86f83d7c487ef34c6b4a1bf\n",
      "Successfully built ffmpy\n",
      "Installing collected packages: pydub, ffmpy, websockets, tomlkit, shellingham, semantic-version, python-multipart, pyparsing, orjson, mdurl, kiwisolver, importlib-resources, h11, fonttools, cycler, contourpy, colorama, click, anyio, aiofiles, uvicorn, typer, starlette, matplotlib, markdown-it-py, httpcore, rich, httpx, fastapi, gradio-client, altair, gradio\n",
      "  Attempting uninstall: anyio\n",
      "    Found existing installation: anyio 4.1.0\n",
      "    Uninstalling anyio-4.1.0:\n",
      "      Successfully uninstalled anyio-4.1.0\n",
      "Successfully installed aiofiles-23.2.1 altair-5.2.0 anyio-3.7.1 click-8.1.7 colorama-0.4.6 contourpy-1.2.0 cycler-0.12.1 fastapi-0.105.0 ffmpy-0.3.1 fonttools-4.47.0 gradio-4.12.0 gradio-client-0.8.0 h11-0.14.0 httpcore-1.0.2 httpx-0.26.0 importlib-resources-6.1.1 kiwisolver-1.4.5 markdown-it-py-3.0.0 matplotlib-3.8.2 mdurl-0.1.2 orjson-3.9.10 pydub-0.25.1 pyparsing-3.1.1 python-multipart-0.0.6 rich-13.7.0 semantic-version-2.10.0 shellingham-1.5.4 starlette-0.27.0 tomlkit-0.12.0 typer-0.9.0 uvicorn-0.25.0 websockets-11.0.3\n",
      "\u001b[33mWARNING: Running pip as the 'root' user can result in broken permissions and conflicting behaviour with the system package manager. It is recommended to use a virtual environment instead: https://pip.pypa.io/warnings/venv\u001b[0m\u001b[33m\n",
      "\u001b[0m"
     ]
    }
   ],
   "source": [
    "!pip install gradio typing-extensions"
   ]
  },
  {
   "attachments": {},
   "cell_type": "markdown",
   "metadata": {},
   "source": [
    "## Model Setup\n",
    "\n",
    "In a separate screen or window, first install [Manifest](https://github.com/HazyResearch/manifest)\n",
    "```bash\n",
    "pip install manifest-ml\\[all\\]\n",
    "```\n",
    "\n",
    "Then run\n",
    "```bash\n",
    "python3 -m manifest.api.app \\\n",
    "    --model_type huggingface \\\n",
    "    --model_generation_type text-generation \\\n",
    "    --model_name_or_path NumbersStation/nsql-350M \\\n",
    "    --device 0\n",
    "```\n",
    "\n",
    "If successful, you will see an output like\n",
    "```bash\n",
    "* Running on http://127.0.0.1:5000\n",
    "```"
   ]
  },
  {
   "cell_type": "markdown",
   "metadata": {},
   "source": [
    "## Using Specialised LLM to answer question with SQL"
   ]
  },
  {
   "cell_type": "code",
   "execution_count": 6,
   "metadata": {
    "collapsed": true,
    "jupyter": {
     "outputs_hidden": true
    },
    "scrolled": true
   },
   "outputs": [
    {
     "name": "stdout",
     "output_type": "stream",
     "text": [
      "Loading model...\n"
     ]
    },
    {
     "data": {
      "application/vnd.jupyter.widget-view+json": {
       "model_id": "0e2a735dc5df441281eeec064bae8a5a",
       "version_major": 2,
       "version_minor": 0
      },
      "text/plain": [
       "Loading checkpoint shards:   0%|          | 0/2 [00:00<?, ?it/s]"
      ]
     },
     "metadata": {},
     "output_type": "display_data"
    },
    {
     "data": {
      "text/plain": [
       "MistralForCausalLM(\n",
       "  (model): MistralModel(\n",
       "    (embed_tokens): Embedding(32000, 4096)\n",
       "    (layers): ModuleList(\n",
       "      (0-31): 32 x MistralDecoderLayer(\n",
       "        (self_attn): MistralAttention(\n",
       "          (q_proj): Linear(in_features=4096, out_features=4096, bias=False)\n",
       "          (k_proj): Linear(in_features=4096, out_features=1024, bias=False)\n",
       "          (v_proj): Linear(in_features=4096, out_features=1024, bias=False)\n",
       "          (o_proj): Linear(in_features=4096, out_features=4096, bias=False)\n",
       "          (rotary_emb): MistralRotaryEmbedding()\n",
       "        )\n",
       "        (mlp): MistralMLP(\n",
       "          (gate_proj): Linear(in_features=4096, out_features=14336, bias=False)\n",
       "          (up_proj): Linear(in_features=4096, out_features=14336, bias=False)\n",
       "          (down_proj): Linear(in_features=14336, out_features=4096, bias=False)\n",
       "          (act_fn): SiLU()\n",
       "        )\n",
       "        (input_layernorm): MistralRMSNorm()\n",
       "        (post_attention_layernorm): MistralRMSNorm()\n",
       "      )\n",
       "    )\n",
       "    (norm): MistralRMSNorm()\n",
       "  )\n",
       "  (lm_head): Linear(in_features=4096, out_features=32000, bias=False)\n",
       ")"
      ]
     },
     "execution_count": 6,
     "metadata": {},
     "output_type": "execute_result"
    }
   ],
   "source": [
    "import torch\n",
    "from transformers import AutoTokenizer, AutoModelForCausalLM\n",
    "from llm_utils import find_device\n",
    "print(\"Loading model...\")\n",
    "tokenizer = AutoTokenizer.from_pretrained(\"defog/sqlcoder-7b\")\n",
    "model = AutoModelForCausalLM.from_pretrained(\"defog/sqlcoder-7b\", torch_dtype=torch.float16)\n",
    "device = find_device()\n",
    "# Move the model to the device\n",
    "model.to(device)"
   ]
  },
  {
   "cell_type": "code",
   "execution_count": 11,
   "metadata": {
    "collapsed": true,
    "editable": true,
    "jupyter": {
     "outputs_hidden": true
    },
    "slideshow": {
     "slide_type": ""
    },
    "tags": []
   },
   "outputs": [
    {
     "name": "stderr",
     "output_type": "stream",
     "text": [
      "The attention mask and the pad token id were not set. As a consequence, you may observe unexpected behavior. Please pass your input's `attention_mask` to obtain reliable results.\n",
      "Setting `pad_token_id` to `eos_token_id`:2 for open-end generation.\n"
     ]
    },
    {
     "name": "stdout",
     "output_type": "stream",
     "text": [
      "Tokenizing....\n",
      "Generating...\n"
     ]
    },
    {
     "ename": "OutOfMemoryError",
     "evalue": "CUDA out of memory. Tried to allocate 20.00 MiB (GPU 0; 23.69 GiB total capacity; 22.60 GiB already allocated; 12.81 MiB free; 23.31 GiB reserved in total by PyTorch) If reserved memory is >> allocated memory try setting max_split_size_mb to avoid fragmentation.  See documentation for Memory Management and PYTORCH_CUDA_ALLOC_CONF",
     "output_type": "error",
     "traceback": [
      "\u001b[0;31m---------------------------------------------------------------------------\u001b[0m",
      "\u001b[0;31mOutOfMemoryError\u001b[0m                          Traceback (most recent call last)",
      "File \u001b[0;32m<timed exec>:15\u001b[0m\n",
      "File \u001b[0;32m/opt/conda/lib/python3.10/site-packages/torch/utils/_contextlib.py:115\u001b[0m, in \u001b[0;36mcontext_decorator.<locals>.decorate_context\u001b[0;34m(*args, **kwargs)\u001b[0m\n\u001b[1;32m    112\u001b[0m \u001b[38;5;129m@functools\u001b[39m\u001b[38;5;241m.\u001b[39mwraps(func)\n\u001b[1;32m    113\u001b[0m \u001b[38;5;28;01mdef\u001b[39;00m \u001b[38;5;21mdecorate_context\u001b[39m(\u001b[38;5;241m*\u001b[39margs, \u001b[38;5;241m*\u001b[39m\u001b[38;5;241m*\u001b[39mkwargs):\n\u001b[1;32m    114\u001b[0m     \u001b[38;5;28;01mwith\u001b[39;00m ctx_factory():\n\u001b[0;32m--> 115\u001b[0m         \u001b[38;5;28;01mreturn\u001b[39;00m \u001b[43mfunc\u001b[49m\u001b[43m(\u001b[49m\u001b[38;5;241;43m*\u001b[39;49m\u001b[43margs\u001b[49m\u001b[43m,\u001b[49m\u001b[43m \u001b[49m\u001b[38;5;241;43m*\u001b[39;49m\u001b[38;5;241;43m*\u001b[39;49m\u001b[43mkwargs\u001b[49m\u001b[43m)\u001b[49m\n",
      "File \u001b[0;32m/opt/conda/lib/python3.10/site-packages/transformers/generation/utils.py:1718\u001b[0m, in \u001b[0;36mGenerationMixin.generate\u001b[0;34m(self, inputs, generation_config, logits_processor, stopping_criteria, prefix_allowed_tokens_fn, synced_gpus, assistant_model, streamer, negative_prompt_ids, negative_prompt_attention_mask, **kwargs)\u001b[0m\n\u001b[1;32m   1701\u001b[0m     \u001b[38;5;28;01mreturn\u001b[39;00m \u001b[38;5;28mself\u001b[39m\u001b[38;5;241m.\u001b[39massisted_decoding(\n\u001b[1;32m   1702\u001b[0m         input_ids,\n\u001b[1;32m   1703\u001b[0m         assistant_model\u001b[38;5;241m=\u001b[39massistant_model,\n\u001b[0;32m   (...)\u001b[0m\n\u001b[1;32m   1714\u001b[0m         \u001b[38;5;241m*\u001b[39m\u001b[38;5;241m*\u001b[39mmodel_kwargs,\n\u001b[1;32m   1715\u001b[0m     )\n\u001b[1;32m   1716\u001b[0m \u001b[38;5;28;01mif\u001b[39;00m generation_mode \u001b[38;5;241m==\u001b[39m GenerationMode\u001b[38;5;241m.\u001b[39mGREEDY_SEARCH:\n\u001b[1;32m   1717\u001b[0m     \u001b[38;5;66;03m# 11. run greedy search\u001b[39;00m\n\u001b[0;32m-> 1718\u001b[0m     \u001b[38;5;28;01mreturn\u001b[39;00m \u001b[38;5;28;43mself\u001b[39;49m\u001b[38;5;241;43m.\u001b[39;49m\u001b[43mgreedy_search\u001b[49m\u001b[43m(\u001b[49m\n\u001b[1;32m   1719\u001b[0m \u001b[43m        \u001b[49m\u001b[43minput_ids\u001b[49m\u001b[43m,\u001b[49m\n\u001b[1;32m   1720\u001b[0m \u001b[43m        \u001b[49m\u001b[43mlogits_processor\u001b[49m\u001b[38;5;241;43m=\u001b[39;49m\u001b[43mlogits_processor\u001b[49m\u001b[43m,\u001b[49m\n\u001b[1;32m   1721\u001b[0m \u001b[43m        \u001b[49m\u001b[43mstopping_criteria\u001b[49m\u001b[38;5;241;43m=\u001b[39;49m\u001b[43mstopping_criteria\u001b[49m\u001b[43m,\u001b[49m\n\u001b[1;32m   1722\u001b[0m \u001b[43m        \u001b[49m\u001b[43mpad_token_id\u001b[49m\u001b[38;5;241;43m=\u001b[39;49m\u001b[43mgeneration_config\u001b[49m\u001b[38;5;241;43m.\u001b[39;49m\u001b[43mpad_token_id\u001b[49m\u001b[43m,\u001b[49m\n\u001b[1;32m   1723\u001b[0m \u001b[43m        \u001b[49m\u001b[43meos_token_id\u001b[49m\u001b[38;5;241;43m=\u001b[39;49m\u001b[43mgeneration_config\u001b[49m\u001b[38;5;241;43m.\u001b[39;49m\u001b[43meos_token_id\u001b[49m\u001b[43m,\u001b[49m\n\u001b[1;32m   1724\u001b[0m \u001b[43m        \u001b[49m\u001b[43moutput_scores\u001b[49m\u001b[38;5;241;43m=\u001b[39;49m\u001b[43mgeneration_config\u001b[49m\u001b[38;5;241;43m.\u001b[39;49m\u001b[43moutput_scores\u001b[49m\u001b[43m,\u001b[49m\n\u001b[1;32m   1725\u001b[0m \u001b[43m        \u001b[49m\u001b[43mreturn_dict_in_generate\u001b[49m\u001b[38;5;241;43m=\u001b[39;49m\u001b[43mgeneration_config\u001b[49m\u001b[38;5;241;43m.\u001b[39;49m\u001b[43mreturn_dict_in_generate\u001b[49m\u001b[43m,\u001b[49m\n\u001b[1;32m   1726\u001b[0m \u001b[43m        \u001b[49m\u001b[43msynced_gpus\u001b[49m\u001b[38;5;241;43m=\u001b[39;49m\u001b[43msynced_gpus\u001b[49m\u001b[43m,\u001b[49m\n\u001b[1;32m   1727\u001b[0m \u001b[43m        \u001b[49m\u001b[43mstreamer\u001b[49m\u001b[38;5;241;43m=\u001b[39;49m\u001b[43mstreamer\u001b[49m\u001b[43m,\u001b[49m\n\u001b[1;32m   1728\u001b[0m \u001b[43m        \u001b[49m\u001b[38;5;241;43m*\u001b[39;49m\u001b[38;5;241;43m*\u001b[39;49m\u001b[43mmodel_kwargs\u001b[49m\u001b[43m,\u001b[49m\n\u001b[1;32m   1729\u001b[0m \u001b[43m    \u001b[49m\u001b[43m)\u001b[49m\n\u001b[1;32m   1731\u001b[0m \u001b[38;5;28;01melif\u001b[39;00m generation_mode \u001b[38;5;241m==\u001b[39m GenerationMode\u001b[38;5;241m.\u001b[39mCONTRASTIVE_SEARCH:\n\u001b[1;32m   1732\u001b[0m     \u001b[38;5;28;01mif\u001b[39;00m \u001b[38;5;129;01mnot\u001b[39;00m model_kwargs[\u001b[38;5;124m\"\u001b[39m\u001b[38;5;124muse_cache\u001b[39m\u001b[38;5;124m\"\u001b[39m]:\n",
      "File \u001b[0;32m/opt/conda/lib/python3.10/site-packages/transformers/generation/utils.py:2579\u001b[0m, in \u001b[0;36mGenerationMixin.greedy_search\u001b[0;34m(self, input_ids, logits_processor, stopping_criteria, max_length, pad_token_id, eos_token_id, output_attentions, output_hidden_states, output_scores, return_dict_in_generate, synced_gpus, streamer, **model_kwargs)\u001b[0m\n\u001b[1;32m   2576\u001b[0m model_inputs \u001b[38;5;241m=\u001b[39m \u001b[38;5;28mself\u001b[39m\u001b[38;5;241m.\u001b[39mprepare_inputs_for_generation(input_ids, \u001b[38;5;241m*\u001b[39m\u001b[38;5;241m*\u001b[39mmodel_kwargs)\n\u001b[1;32m   2578\u001b[0m \u001b[38;5;66;03m# forward pass to get next token\u001b[39;00m\n\u001b[0;32m-> 2579\u001b[0m outputs \u001b[38;5;241m=\u001b[39m \u001b[38;5;28;43mself\u001b[39;49m\u001b[43m(\u001b[49m\n\u001b[1;32m   2580\u001b[0m \u001b[43m    \u001b[49m\u001b[38;5;241;43m*\u001b[39;49m\u001b[38;5;241;43m*\u001b[39;49m\u001b[43mmodel_inputs\u001b[49m\u001b[43m,\u001b[49m\n\u001b[1;32m   2581\u001b[0m \u001b[43m    \u001b[49m\u001b[43mreturn_dict\u001b[49m\u001b[38;5;241;43m=\u001b[39;49m\u001b[38;5;28;43;01mTrue\u001b[39;49;00m\u001b[43m,\u001b[49m\n\u001b[1;32m   2582\u001b[0m \u001b[43m    \u001b[49m\u001b[43moutput_attentions\u001b[49m\u001b[38;5;241;43m=\u001b[39;49m\u001b[43moutput_attentions\u001b[49m\u001b[43m,\u001b[49m\n\u001b[1;32m   2583\u001b[0m \u001b[43m    \u001b[49m\u001b[43moutput_hidden_states\u001b[49m\u001b[38;5;241;43m=\u001b[39;49m\u001b[43moutput_hidden_states\u001b[49m\u001b[43m,\u001b[49m\n\u001b[1;32m   2584\u001b[0m \u001b[43m\u001b[49m\u001b[43m)\u001b[49m\n\u001b[1;32m   2586\u001b[0m \u001b[38;5;28;01mif\u001b[39;00m synced_gpus \u001b[38;5;129;01mand\u001b[39;00m this_peer_finished:\n\u001b[1;32m   2587\u001b[0m     \u001b[38;5;28;01mcontinue\u001b[39;00m  \u001b[38;5;66;03m# don't waste resources running the code we don't need\u001b[39;00m\n",
      "File \u001b[0;32m/opt/conda/lib/python3.10/site-packages/torch/nn/modules/module.py:1501\u001b[0m, in \u001b[0;36mModule._call_impl\u001b[0;34m(self, *args, **kwargs)\u001b[0m\n\u001b[1;32m   1496\u001b[0m \u001b[38;5;66;03m# If we don't have any hooks, we want to skip the rest of the logic in\u001b[39;00m\n\u001b[1;32m   1497\u001b[0m \u001b[38;5;66;03m# this function, and just call forward.\u001b[39;00m\n\u001b[1;32m   1498\u001b[0m \u001b[38;5;28;01mif\u001b[39;00m \u001b[38;5;129;01mnot\u001b[39;00m (\u001b[38;5;28mself\u001b[39m\u001b[38;5;241m.\u001b[39m_backward_hooks \u001b[38;5;129;01mor\u001b[39;00m \u001b[38;5;28mself\u001b[39m\u001b[38;5;241m.\u001b[39m_backward_pre_hooks \u001b[38;5;129;01mor\u001b[39;00m \u001b[38;5;28mself\u001b[39m\u001b[38;5;241m.\u001b[39m_forward_hooks \u001b[38;5;129;01mor\u001b[39;00m \u001b[38;5;28mself\u001b[39m\u001b[38;5;241m.\u001b[39m_forward_pre_hooks\n\u001b[1;32m   1499\u001b[0m         \u001b[38;5;129;01mor\u001b[39;00m _global_backward_pre_hooks \u001b[38;5;129;01mor\u001b[39;00m _global_backward_hooks\n\u001b[1;32m   1500\u001b[0m         \u001b[38;5;129;01mor\u001b[39;00m _global_forward_hooks \u001b[38;5;129;01mor\u001b[39;00m _global_forward_pre_hooks):\n\u001b[0;32m-> 1501\u001b[0m     \u001b[38;5;28;01mreturn\u001b[39;00m \u001b[43mforward_call\u001b[49m\u001b[43m(\u001b[49m\u001b[38;5;241;43m*\u001b[39;49m\u001b[43margs\u001b[49m\u001b[43m,\u001b[49m\u001b[43m \u001b[49m\u001b[38;5;241;43m*\u001b[39;49m\u001b[38;5;241;43m*\u001b[39;49m\u001b[43mkwargs\u001b[49m\u001b[43m)\u001b[49m\n\u001b[1;32m   1502\u001b[0m \u001b[38;5;66;03m# Do not call functions when jit is used\u001b[39;00m\n\u001b[1;32m   1503\u001b[0m full_backward_hooks, non_full_backward_hooks \u001b[38;5;241m=\u001b[39m [], []\n",
      "File \u001b[0;32m/opt/conda/lib/python3.10/site-packages/transformers/models/mistral/modeling_mistral.py:1053\u001b[0m, in \u001b[0;36mMistralForCausalLM.forward\u001b[0;34m(self, input_ids, attention_mask, position_ids, past_key_values, inputs_embeds, labels, use_cache, output_attentions, output_hidden_states, return_dict)\u001b[0m\n\u001b[1;32m   1050\u001b[0m return_dict \u001b[38;5;241m=\u001b[39m return_dict \u001b[38;5;28;01mif\u001b[39;00m return_dict \u001b[38;5;129;01mis\u001b[39;00m \u001b[38;5;129;01mnot\u001b[39;00m \u001b[38;5;28;01mNone\u001b[39;00m \u001b[38;5;28;01melse\u001b[39;00m \u001b[38;5;28mself\u001b[39m\u001b[38;5;241m.\u001b[39mconfig\u001b[38;5;241m.\u001b[39muse_return_dict\n\u001b[1;32m   1052\u001b[0m \u001b[38;5;66;03m# decoder outputs consists of (dec_features, layer_state, dec_hidden, dec_attn)\u001b[39;00m\n\u001b[0;32m-> 1053\u001b[0m outputs \u001b[38;5;241m=\u001b[39m \u001b[38;5;28;43mself\u001b[39;49m\u001b[38;5;241;43m.\u001b[39;49m\u001b[43mmodel\u001b[49m\u001b[43m(\u001b[49m\n\u001b[1;32m   1054\u001b[0m \u001b[43m    \u001b[49m\u001b[43minput_ids\u001b[49m\u001b[38;5;241;43m=\u001b[39;49m\u001b[43minput_ids\u001b[49m\u001b[43m,\u001b[49m\n\u001b[1;32m   1055\u001b[0m \u001b[43m    \u001b[49m\u001b[43mattention_mask\u001b[49m\u001b[38;5;241;43m=\u001b[39;49m\u001b[43mattention_mask\u001b[49m\u001b[43m,\u001b[49m\n\u001b[1;32m   1056\u001b[0m \u001b[43m    \u001b[49m\u001b[43mposition_ids\u001b[49m\u001b[38;5;241;43m=\u001b[39;49m\u001b[43mposition_ids\u001b[49m\u001b[43m,\u001b[49m\n\u001b[1;32m   1057\u001b[0m \u001b[43m    \u001b[49m\u001b[43mpast_key_values\u001b[49m\u001b[38;5;241;43m=\u001b[39;49m\u001b[43mpast_key_values\u001b[49m\u001b[43m,\u001b[49m\n\u001b[1;32m   1058\u001b[0m \u001b[43m    \u001b[49m\u001b[43minputs_embeds\u001b[49m\u001b[38;5;241;43m=\u001b[39;49m\u001b[43minputs_embeds\u001b[49m\u001b[43m,\u001b[49m\n\u001b[1;32m   1059\u001b[0m \u001b[43m    \u001b[49m\u001b[43muse_cache\u001b[49m\u001b[38;5;241;43m=\u001b[39;49m\u001b[43muse_cache\u001b[49m\u001b[43m,\u001b[49m\n\u001b[1;32m   1060\u001b[0m \u001b[43m    \u001b[49m\u001b[43moutput_attentions\u001b[49m\u001b[38;5;241;43m=\u001b[39;49m\u001b[43moutput_attentions\u001b[49m\u001b[43m,\u001b[49m\n\u001b[1;32m   1061\u001b[0m \u001b[43m    \u001b[49m\u001b[43moutput_hidden_states\u001b[49m\u001b[38;5;241;43m=\u001b[39;49m\u001b[43moutput_hidden_states\u001b[49m\u001b[43m,\u001b[49m\n\u001b[1;32m   1062\u001b[0m \u001b[43m    \u001b[49m\u001b[43mreturn_dict\u001b[49m\u001b[38;5;241;43m=\u001b[39;49m\u001b[43mreturn_dict\u001b[49m\u001b[43m,\u001b[49m\n\u001b[1;32m   1063\u001b[0m \u001b[43m\u001b[49m\u001b[43m)\u001b[49m\n\u001b[1;32m   1065\u001b[0m hidden_states \u001b[38;5;241m=\u001b[39m outputs[\u001b[38;5;241m0\u001b[39m]\n\u001b[1;32m   1066\u001b[0m logits \u001b[38;5;241m=\u001b[39m \u001b[38;5;28mself\u001b[39m\u001b[38;5;241m.\u001b[39mlm_head(hidden_states)\n",
      "File \u001b[0;32m/opt/conda/lib/python3.10/site-packages/torch/nn/modules/module.py:1501\u001b[0m, in \u001b[0;36mModule._call_impl\u001b[0;34m(self, *args, **kwargs)\u001b[0m\n\u001b[1;32m   1496\u001b[0m \u001b[38;5;66;03m# If we don't have any hooks, we want to skip the rest of the logic in\u001b[39;00m\n\u001b[1;32m   1497\u001b[0m \u001b[38;5;66;03m# this function, and just call forward.\u001b[39;00m\n\u001b[1;32m   1498\u001b[0m \u001b[38;5;28;01mif\u001b[39;00m \u001b[38;5;129;01mnot\u001b[39;00m (\u001b[38;5;28mself\u001b[39m\u001b[38;5;241m.\u001b[39m_backward_hooks \u001b[38;5;129;01mor\u001b[39;00m \u001b[38;5;28mself\u001b[39m\u001b[38;5;241m.\u001b[39m_backward_pre_hooks \u001b[38;5;129;01mor\u001b[39;00m \u001b[38;5;28mself\u001b[39m\u001b[38;5;241m.\u001b[39m_forward_hooks \u001b[38;5;129;01mor\u001b[39;00m \u001b[38;5;28mself\u001b[39m\u001b[38;5;241m.\u001b[39m_forward_pre_hooks\n\u001b[1;32m   1499\u001b[0m         \u001b[38;5;129;01mor\u001b[39;00m _global_backward_pre_hooks \u001b[38;5;129;01mor\u001b[39;00m _global_backward_hooks\n\u001b[1;32m   1500\u001b[0m         \u001b[38;5;129;01mor\u001b[39;00m _global_forward_hooks \u001b[38;5;129;01mor\u001b[39;00m _global_forward_pre_hooks):\n\u001b[0;32m-> 1501\u001b[0m     \u001b[38;5;28;01mreturn\u001b[39;00m \u001b[43mforward_call\u001b[49m\u001b[43m(\u001b[49m\u001b[38;5;241;43m*\u001b[39;49m\u001b[43margs\u001b[49m\u001b[43m,\u001b[49m\u001b[43m \u001b[49m\u001b[38;5;241;43m*\u001b[39;49m\u001b[38;5;241;43m*\u001b[39;49m\u001b[43mkwargs\u001b[49m\u001b[43m)\u001b[49m\n\u001b[1;32m   1502\u001b[0m \u001b[38;5;66;03m# Do not call functions when jit is used\u001b[39;00m\n\u001b[1;32m   1503\u001b[0m full_backward_hooks, non_full_backward_hooks \u001b[38;5;241m=\u001b[39m [], []\n",
      "File \u001b[0;32m/opt/conda/lib/python3.10/site-packages/transformers/models/mistral/modeling_mistral.py:892\u001b[0m, in \u001b[0;36mMistralModel.forward\u001b[0;34m(self, input_ids, attention_mask, position_ids, past_key_values, inputs_embeds, use_cache, output_attentions, output_hidden_states, return_dict)\u001b[0m\n\u001b[1;32m    889\u001b[0m     position_ids \u001b[38;5;241m=\u001b[39m position_ids\u001b[38;5;241m.\u001b[39mview(\u001b[38;5;241m-\u001b[39m\u001b[38;5;241m1\u001b[39m, seq_length)\u001b[38;5;241m.\u001b[39mlong()\n\u001b[1;32m    891\u001b[0m \u001b[38;5;28;01mif\u001b[39;00m inputs_embeds \u001b[38;5;129;01mis\u001b[39;00m \u001b[38;5;28;01mNone\u001b[39;00m:\n\u001b[0;32m--> 892\u001b[0m     inputs_embeds \u001b[38;5;241m=\u001b[39m \u001b[38;5;28;43mself\u001b[39;49m\u001b[38;5;241;43m.\u001b[39;49m\u001b[43membed_tokens\u001b[49m\u001b[43m(\u001b[49m\u001b[43minput_ids\u001b[49m\u001b[43m)\u001b[49m\n\u001b[1;32m    894\u001b[0m \u001b[38;5;28;01mif\u001b[39;00m attention_mask \u001b[38;5;129;01mis\u001b[39;00m \u001b[38;5;129;01mnot\u001b[39;00m \u001b[38;5;28;01mNone\u001b[39;00m \u001b[38;5;129;01mand\u001b[39;00m \u001b[38;5;28mself\u001b[39m\u001b[38;5;241m.\u001b[39m_use_flash_attention_2 \u001b[38;5;129;01mand\u001b[39;00m use_cache:\n\u001b[1;32m    895\u001b[0m     is_padding_right \u001b[38;5;241m=\u001b[39m attention_mask[:, \u001b[38;5;241m-\u001b[39m\u001b[38;5;241m1\u001b[39m]\u001b[38;5;241m.\u001b[39msum()\u001b[38;5;241m.\u001b[39mitem() \u001b[38;5;241m!=\u001b[39m batch_size\n",
      "File \u001b[0;32m/opt/conda/lib/python3.10/site-packages/torch/nn/modules/module.py:1501\u001b[0m, in \u001b[0;36mModule._call_impl\u001b[0;34m(self, *args, **kwargs)\u001b[0m\n\u001b[1;32m   1496\u001b[0m \u001b[38;5;66;03m# If we don't have any hooks, we want to skip the rest of the logic in\u001b[39;00m\n\u001b[1;32m   1497\u001b[0m \u001b[38;5;66;03m# this function, and just call forward.\u001b[39;00m\n\u001b[1;32m   1498\u001b[0m \u001b[38;5;28;01mif\u001b[39;00m \u001b[38;5;129;01mnot\u001b[39;00m (\u001b[38;5;28mself\u001b[39m\u001b[38;5;241m.\u001b[39m_backward_hooks \u001b[38;5;129;01mor\u001b[39;00m \u001b[38;5;28mself\u001b[39m\u001b[38;5;241m.\u001b[39m_backward_pre_hooks \u001b[38;5;129;01mor\u001b[39;00m \u001b[38;5;28mself\u001b[39m\u001b[38;5;241m.\u001b[39m_forward_hooks \u001b[38;5;129;01mor\u001b[39;00m \u001b[38;5;28mself\u001b[39m\u001b[38;5;241m.\u001b[39m_forward_pre_hooks\n\u001b[1;32m   1499\u001b[0m         \u001b[38;5;129;01mor\u001b[39;00m _global_backward_pre_hooks \u001b[38;5;129;01mor\u001b[39;00m _global_backward_hooks\n\u001b[1;32m   1500\u001b[0m         \u001b[38;5;129;01mor\u001b[39;00m _global_forward_hooks \u001b[38;5;129;01mor\u001b[39;00m _global_forward_pre_hooks):\n\u001b[0;32m-> 1501\u001b[0m     \u001b[38;5;28;01mreturn\u001b[39;00m \u001b[43mforward_call\u001b[49m\u001b[43m(\u001b[49m\u001b[38;5;241;43m*\u001b[39;49m\u001b[43margs\u001b[49m\u001b[43m,\u001b[49m\u001b[43m \u001b[49m\u001b[38;5;241;43m*\u001b[39;49m\u001b[38;5;241;43m*\u001b[39;49m\u001b[43mkwargs\u001b[49m\u001b[43m)\u001b[49m\n\u001b[1;32m   1502\u001b[0m \u001b[38;5;66;03m# Do not call functions when jit is used\u001b[39;00m\n\u001b[1;32m   1503\u001b[0m full_backward_hooks, non_full_backward_hooks \u001b[38;5;241m=\u001b[39m [], []\n",
      "File \u001b[0;32m/opt/conda/lib/python3.10/site-packages/torch/nn/modules/sparse.py:162\u001b[0m, in \u001b[0;36mEmbedding.forward\u001b[0;34m(self, input)\u001b[0m\n\u001b[1;32m    161\u001b[0m \u001b[38;5;28;01mdef\u001b[39;00m \u001b[38;5;21mforward\u001b[39m(\u001b[38;5;28mself\u001b[39m, \u001b[38;5;28minput\u001b[39m: Tensor) \u001b[38;5;241m-\u001b[39m\u001b[38;5;241m>\u001b[39m Tensor:\n\u001b[0;32m--> 162\u001b[0m     \u001b[38;5;28;01mreturn\u001b[39;00m \u001b[43mF\u001b[49m\u001b[38;5;241;43m.\u001b[39;49m\u001b[43membedding\u001b[49m\u001b[43m(\u001b[49m\n\u001b[1;32m    163\u001b[0m \u001b[43m        \u001b[49m\u001b[38;5;28;43minput\u001b[39;49m\u001b[43m,\u001b[49m\u001b[43m \u001b[49m\u001b[38;5;28;43mself\u001b[39;49m\u001b[38;5;241;43m.\u001b[39;49m\u001b[43mweight\u001b[49m\u001b[43m,\u001b[49m\u001b[43m \u001b[49m\u001b[38;5;28;43mself\u001b[39;49m\u001b[38;5;241;43m.\u001b[39;49m\u001b[43mpadding_idx\u001b[49m\u001b[43m,\u001b[49m\u001b[43m \u001b[49m\u001b[38;5;28;43mself\u001b[39;49m\u001b[38;5;241;43m.\u001b[39;49m\u001b[43mmax_norm\u001b[49m\u001b[43m,\u001b[49m\n\u001b[1;32m    164\u001b[0m \u001b[43m        \u001b[49m\u001b[38;5;28;43mself\u001b[39;49m\u001b[38;5;241;43m.\u001b[39;49m\u001b[43mnorm_type\u001b[49m\u001b[43m,\u001b[49m\u001b[43m \u001b[49m\u001b[38;5;28;43mself\u001b[39;49m\u001b[38;5;241;43m.\u001b[39;49m\u001b[43mscale_grad_by_freq\u001b[49m\u001b[43m,\u001b[49m\u001b[43m \u001b[49m\u001b[38;5;28;43mself\u001b[39;49m\u001b[38;5;241;43m.\u001b[39;49m\u001b[43msparse\u001b[49m\u001b[43m)\u001b[49m\n",
      "File \u001b[0;32m/opt/conda/lib/python3.10/site-packages/torch/nn/functional.py:2210\u001b[0m, in \u001b[0;36membedding\u001b[0;34m(input, weight, padding_idx, max_norm, norm_type, scale_grad_by_freq, sparse)\u001b[0m\n\u001b[1;32m   2204\u001b[0m     \u001b[38;5;66;03m# Note [embedding_renorm set_grad_enabled]\u001b[39;00m\n\u001b[1;32m   2205\u001b[0m     \u001b[38;5;66;03m# XXX: equivalent to\u001b[39;00m\n\u001b[1;32m   2206\u001b[0m     \u001b[38;5;66;03m# with torch.no_grad():\u001b[39;00m\n\u001b[1;32m   2207\u001b[0m     \u001b[38;5;66;03m#   torch.embedding_renorm_\u001b[39;00m\n\u001b[1;32m   2208\u001b[0m     \u001b[38;5;66;03m# remove once script supports set_grad_enabled\u001b[39;00m\n\u001b[1;32m   2209\u001b[0m     _no_grad_embedding_renorm_(weight, \u001b[38;5;28minput\u001b[39m, max_norm, norm_type)\n\u001b[0;32m-> 2210\u001b[0m \u001b[38;5;28;01mreturn\u001b[39;00m \u001b[43mtorch\u001b[49m\u001b[38;5;241;43m.\u001b[39;49m\u001b[43membedding\u001b[49m\u001b[43m(\u001b[49m\u001b[43mweight\u001b[49m\u001b[43m,\u001b[49m\u001b[43m \u001b[49m\u001b[38;5;28;43minput\u001b[39;49m\u001b[43m,\u001b[49m\u001b[43m \u001b[49m\u001b[43mpadding_idx\u001b[49m\u001b[43m,\u001b[49m\u001b[43m \u001b[49m\u001b[43mscale_grad_by_freq\u001b[49m\u001b[43m,\u001b[49m\u001b[43m \u001b[49m\u001b[43msparse\u001b[49m\u001b[43m)\u001b[49m\n",
      "\u001b[0;31mOutOfMemoryError\u001b[0m: CUDA out of memory. Tried to allocate 20.00 MiB (GPU 0; 23.69 GiB total capacity; 22.60 GiB already allocated; 12.81 MiB free; 23.31 GiB reserved in total by PyTorch) If reserved memory is >> allocated memory try setting max_split_size_mb to avoid fragmentation.  See documentation for Memory Management and PYTORCH_CUDA_ALLOC_CONF"
     ]
    }
   ],
   "source": [
    "%%time\n",
    "import torch\n",
    "torch.cuda.empty_cache()\n",
    "\n",
    "from prompt_formatters import SqlCoderFormatter\n",
    "formatter = SqlCoderFormatter([])\n",
    "# Reading from the file\n",
    "with open(\"sample_table_str.txt\", 'r') as file:\n",
    "    formatter.table_str = file.read()\n",
    "print(\"Tokenizing....\")\n",
    "question = \"What is the top seller in my products ?\"\n",
    "prompt = formatter.format_prompt(question, database='Postgres')\n",
    "input_ids = tokenizer(prompt, return_tensors=\"pt\").input_ids\n",
    "\n",
    "# Move the input to the MPS device\n",
    "input_ids = input_ids.to(device)\n",
    "\n",
    "print(\"Generating...\")\n",
    "generated_ids = model.generate(input_ids, max_length=2500)\n",
    "response = tokenizer.decode(generated_ids[0], skip_special_tokens=True)\n"
   ]
  },
  {
   "cell_type": "code",
   "execution_count": 12,
   "metadata": {
    "editable": true,
    "slideshow": {
     "slide_type": ""
    },
    "tags": []
   },
   "outputs": [
    {
     "name": "stdout",
     "output_type": "stream",
     "text": [
      "Loading model...\n",
      "Using device cuda.\n"
     ]
    },
    {
     "data": {
      "application/vnd.jupyter.widget-view+json": {
       "model_id": "c023f32d5fd44f50a464fc87db1b0123",
       "version_major": 2,
       "version_minor": 0
      },
      "text/plain": [
       "Loading checkpoint shards:   0%|          | 0/2 [00:00<?, ?it/s]"
      ]
     },
     "metadata": {},
     "output_type": "display_data"
    },
    {
     "name": "stderr",
     "output_type": "stream",
     "text": [
      "The attention mask and the pad token id were not set. As a consequence, you may observe unexpected behavior. Please pass your input's `attention_mask` to obtain reliable results.\n",
      "Setting `pad_token_id` to `eos_token_id`:2 for open-end generation.\n"
     ]
    },
    {
     "name": "stdout",
     "output_type": "stream",
     "text": [
      "Tokenizing....\n",
      "Generating...\n",
      "CPU times: user 43.4 s, sys: 44 s, total: 1min 27s\n",
      "Wall time: 26.2 s\n"
     ]
    }
   ],
   "source": [
    "%%time\n",
    "from llm_utils import prompt_llm_offline, HG_SQL_LLM_MODEL_PATH\n",
    "from prompt_formatters import SqlCoderFormatter\n",
    "formatter = SqlCoderFormatter([])\n",
    "with open(\"sample_table_str.txt\", 'r') as file:\n",
    "    formatter.table_str = file.read()\n",
    "question = \"What is the most frequently used payment method ?\"\n",
    "prompt = formatter.format_prompt(question, database='Postgres')\n",
    "response = prompt_llm_offline(prompt=prompt, max_length=2500, model_name=HG_SQL_LLM_MODEL_PATH)"
   ]
  },
  {
   "cell_type": "code",
   "execution_count": 13,
   "metadata": {
    "editable": true,
    "slideshow": {
     "slide_type": ""
    },
    "tags": []
   },
   "outputs": [
    {
     "name": "stdout",
     "output_type": "stream",
     "text": [
      "\n",
      "SELECT payments.paymentmethod, COUNT(*) AS COUNT FROM payments GROUP BY payments.paymentmethod ORDER BY COUNT DESC LIMIT 1;\n",
      "\n"
     ]
    }
   ],
   "source": [
    "from llm_utils import extract_sql_code\n",
    "\n",
    "print(extract_sql_code(response))"
   ]
  },
  {
   "cell_type": "code",
   "execution_count": 5,
   "metadata": {
    "editable": true,
    "slideshow": {
     "slide_type": ""
    },
    "tags": []
   },
   "outputs": [
    {
     "name": "stdout",
     "output_type": "stream",
     "text": [
      "\n",
      "SELECT stores.store_name, products.product_name_en, COUNT(transactions.transaction_id) AS number_of_transactions\n",
      "FROM stores\n",
      "JOIN inventory ON stores.store_id = inventory.store_id\n",
      "JOIN products ON inventory.product_id = products.product_id\n",
      "JOIN transactions ON inventory.inventory_id = transactions.inventory_id\n",
      "GROUP BY stores.store_name, products.product_name_en\n",
      "ORDER BY stores.store_name, number_of_transactions DESC\n",
      "LIMIT 1;\n",
      "\n",
      "Query executed successfully. The result is:\n",
      "{\"store_name\":{\"0\":\"Store 1\"},\"product_name_en\":{\"0\":\"Tea\"},\"number_of_transactions\":{\"0\":470}}\n"
     ]
    }
   ],
   "source": [
    "from llm_utils import extract_sql_code\n",
    "print(extract_sql_code(response))\n",
    "query = extract_sql_code(response)\n",
    "\n",
    "# Execute the query and format the output\n",
    "try:\n",
    "    result = postgres_connector.run_sql_as_df(query)\n",
    "    print(\"Query executed successfully. The result is:\")\n",
    "    print(result.to_json())\n",
    "except Exception as e:\n",
    "    print(f\"Error executing the query: {e}\")"
   ]
  },
  {
   "cell_type": "code",
   "execution_count": 6,
   "metadata": {},
   "outputs": [
    {
     "name": "stdout",
     "output_type": "stream",
     "text": [
      "\n",
      "<s>[INST] <<SYS>>\n",
      "You are an assistant to a SQL developer, you will help him interpret results of query execution. He gives a SQL database definition, SQL query he ran and the result it returns.\n",
      "- You go through the database definition for context.\n",
      "- You go through the SQL query and the question to prepare the response.\n",
      "- You use the sql execution result to provide a short sentence interpreting the results.\n",
      "<</SYS>>\n",
      "\n",
      "Below is an SQL table definition: \n",
      "```sql\n",
      "\n",
      "CREATE TABLE companies (\n",
      "company_id SERIAL PRIMARY KEY,\n",
      "company_name VARCHAR(255) -- company_id is the company unique ID\n",
      ")\n",
      "\n",
      "CREATE TABLE stores (\n",
      "company_id integer, -- foreign key referencing companies.company_id\n",
      "store_id VARCHAR(255) PRIMARY KEY, -- store_id is the store unique ID\n",
      "store_name VARCHAR(255), -- name of the store\n",
      "address text, -- address of the store\n",
      "phone_number VARCHAR(20) -- phone number of the store\n",
      ")\n",
      "\n",
      "CREATE TABLE categories (\n",
      "category_id VARCHAR(255) PRIMARY KEY, -- category_id is the category unique ID\n",
      "category_name_en VARCHAR(255) -- name of the category in English\n",
      ")\n",
      "\n",
      "CREATE TABLE products (\n",
      "product_id VARCHAR(255) PRIMARY KEY, -- product_id is the product unique ID\n",
      "article_id VARCHAR(255), -- article number of the product\n",
      "product_name_en VARCHAR(255), -- name of the product in English\n",
      "uom VARCHAR(50), -- unit of measurement for the product\n",
      "buom VARCHAR(50), -- bought quantity of the product\n",
      "category_id VARCHAR(255), -- foreign key referencing categories.category_id\n",
      "brand VARCHAR(255), -- brand of the product\n",
      "gtin VARCHAR(255), -- global trade item number of the product\n",
      "varient_en VARCHAR(255) -- variant of the product in English\n",
      ")\n",
      "\n",
      "CREATE TABLE inventory (\n",
      "inventory_id SERIAL PRIMARY KEY, -- inventory_id is the inventory unique ID\n",
      "current_stock integer, -- current stock of the product\n",
      "last_updated TIMESTAMP DEFAULT (now() AT TIME ZONE 'UTC'::text), -- last updated date and time of the inventory\n",
      "store_id VARCHAR(255), -- foreign key referencing stores.store_id\n",
      "product_id VARCHAR(255), -- foreign key referencing products.product_id\n",
      ")\n",
      "\n",
      "CREATE TABLE restocks (\n",
      "restock_id SERIAL PRIMARY KEY, -- restock_id is the restock unique ID\n",
      "inventory_id integer, -- foreign key referencing inventory.inventory_id\n",
      "restocked_quantity integer, -- quantity of the product restocked\n",
      "restock_date TIMESTORM DEFAULT (now() AT TIME ZONE 'UTC'::text), -- date and time of the restock\n",
      ")\n",
      "\n",
      "CREATE TABLE transactions (\n",
      "transaction_id SERIAL PRIMARY KEY, -- transaction_id is the transaction unique ID\n",
      "inventory_id integer, -- foreign key referencing inventory.inventory_id\n",
      "date TIMESTAMP DEFAULT (now() AT TIME ZONE 'UTC'::text), -- date of the transaction\n",
      "quantity_sold integer, -- quantity of the product sold\n",
      "price double precision, -- price of the product sold\n",
      "discount double precision, -- discount percentage of the product sold\n",
      "tax double precision, -- tax percentage of the product sold\n",
      ")\n",
      "\n",
      "CREATE TABLE productdemandforecast (\n",
      "forecast_id SERIAL PRIMARY KEY, -- forecast_id is the forecast unique ID\n",
      "forecast_date date, -- date of the forecast\n",
      "forecasted_demand integer, -- forecasted demand of the product\n",
      "product_id VARCHAR(255), -- foreign key referencing products.product_id\n",
      ")\n",
      "\n",
      "-- stores.company_id can be joined with companies.company_id\n",
      "-- products.category_id can be joined with categories.category_id\n",
      "-- inventory.store_id can be joined with stores.store_id\n",
      "-- inventory.product_id can be joined with products.product_id\n",
      "-- restocks.inventory_id can be joined with inventory.inventory_id\n",
      "-- transactions.inventory_id can be joined with inventory.inventory_id\n",
      "-- productdemandforecast.product_id can be joined with products.product_id\n",
      "\n",
      "```\n",
      "Below the executed query: \n",
      "```sql\n",
      "\n",
      "SELECT stores.store_name, products.product_name_en, COUNT(transactions.transaction_id) AS number_of_transactions\n",
      "FROM stores\n",
      "JOIN inventory ON stores.store_id = inventory.store_id\n",
      "JOIN products ON inventory.product_id = products.product_id\n",
      "JOIN transactions ON inventory.inventory_id = transactions.inventory_id\n",
      "GROUP BY stores.store_name, products.product_name_en\n",
      "ORDER BY stores.store_name, number_of_transactions DESC\n",
      "LIMIT 1;\n",
      "\n",
      "``` \n",
      "\n",
      "Below the results obtained after executing the query: \n",
      "`{\"store_name\":{\"0\":\"Store 1\"},\"product_name_en\":{\"0\":\"Tea\"},\"number_of_transactions\":{\"0\":470}}`\n",
      "\n",
      "Answer the following question: \n",
      "What is the most sold product per store? [/INST]\n",
      "\n"
     ]
    }
   ],
   "source": [
    "# Reading from the file\n",
    "with open(\"sample_table_str.txt\", 'r') as file:\n",
    "    table_str = file.read()\n",
    "system_prompt = f'You are an assistant to a SQL developer, you will help him interpret results of query execution. He gives a SQL database definition, SQL query he ran and the result it returns.\\n- You go through the database definition for context.\\n- You go through the SQL query and the question to prepare the response.\\n- You use the sql execution result to provide a short sentence interpreting the results.'\n",
    "user_message = f\"Below is an SQL table definition: \\n```sql\\n{table_str}\\n```\\nBelow the executed query: \\n```sql\\n{query}\\n``` \\n\\nBelow the results obtained after executing the query: \\n`{result.to_json()}`\\n\\nAnswer the following question: \\n{question}\"\n",
    "formatted_prompt = f\"\"\"\n",
    "<s>[INST] <<SYS>>\n",
    "{ system_prompt }\n",
    "<</SYS>>\n",
    "\n",
    "{ user_message } [/INST]\n",
    "\"\"\"\n",
    "\n",
    "print(formatted_prompt)"
   ]
  },
  {
   "cell_type": "code",
   "execution_count": 7,
   "metadata": {},
   "outputs": [
    {
     "name": "stdout",
     "output_type": "stream",
     "text": [
      "Loading model...\n",
      "Using device mps.\n"
     ]
    },
    {
     "name": "stderr",
     "output_type": "stream",
     "text": [
      "Loading checkpoint shards: 100%|██████████| 2/2 [00:22<00:00, 11.41s/it]\n"
     ]
    },
    {
     "name": "stdout",
     "output_type": "stream",
     "text": [
      "Tokenizing....\n",
      "Generating...\n",
      "\n",
      " [INST] <<SYS>>\n",
      "You are an assistant to a SQL developer, you will help him interpret results of query execution. He gives a SQL database definition, SQL query he ran and the result it returns.\n",
      "- You go through the database definition for context.\n",
      "- You go through the SQL query and the question to prepare the response.\n",
      "- You use the sql execution result to provide a short sentence interpreting the results.\n",
      "<</SYS>>\n",
      "\n",
      "Below is an SQL table definition: \n",
      "```sql\n",
      "\n",
      "CREATE TABLE companies (\n",
      "company_id SERIAL PRIMARY KEY,\n",
      "company_name VARCHAR(255) -- company_id is the company unique ID\n",
      ")\n",
      "\n",
      "CREATE TABLE stores (\n",
      "company_id integer, -- foreign key referencing companies.company_id\n",
      "store_id VARCHAR(255) PRIMARY KEY, -- store_id is the store unique ID\n",
      "store_name VARCHAR(255), -- name of the store\n",
      "address text, -- address of the store\n",
      "phone_number VARCHAR(20) -- phone number of the store\n",
      ")\n",
      "\n",
      "CREATE TABLE categories (\n",
      "category_id VARCHAR(255) PRIMARY KEY, -- category_id is the category unique ID\n",
      "category_name_en VARCHAR(255) -- name of the category in English\n",
      ")\n",
      "\n",
      "CREATE TABLE products (\n",
      "product_id VARCHAR(255) PRIMARY KEY, -- product_id is the product unique ID\n",
      "article_id VARCHAR(255), -- article number of the product\n",
      "product_name_en VARCHAR(255), -- name of the product in English\n",
      "uom VARCHAR(50), -- unit of measurement for the product\n",
      "buom VARCHAR(50), -- bought quantity of the product\n",
      "category_id VARCHAR(255), -- foreign key referencing categories.category_id\n",
      "brand VARCHAR(255), -- brand of the product\n",
      "gtin VARCHAR(255), -- global trade item number of the product\n",
      "varient_en VARCHAR(255) -- variant of the product in English\n",
      ")\n",
      "\n",
      "CREATE TABLE inventory (\n",
      "inventory_id SERIAL PRIMARY KEY, -- inventory_id is the inventory unique ID\n",
      "current_stock integer, -- current stock of the product\n",
      "last_updated TIMESTAMP DEFAULT (now() AT TIME ZONE 'UTC'::text), -- last updated date and time of the inventory\n",
      "store_id VARCHAR(255), -- foreign key referencing stores.store_id\n",
      "product_id VARCHAR(255), -- foreign key referencing products.product_id\n",
      ")\n",
      "\n",
      "CREATE TABLE restocks (\n",
      "restock_id SERIAL PRIMARY KEY, -- restock_id is the restock unique ID\n",
      "inventory_id integer, -- foreign key referencing inventory.inventory_id\n",
      "restocked_quantity integer, -- quantity of the product restocked\n",
      "restock_date TIMESTORM DEFAULT (now() AT TIME ZONE 'UTC'::text), -- date and time of the restock\n",
      ")\n",
      "\n",
      "CREATE TABLE transactions (\n",
      "transaction_id SERIAL PRIMARY KEY, -- transaction_id is the transaction unique ID\n",
      "inventory_id integer, -- foreign key referencing inventory.inventory_id\n",
      "date TIMESTAMP DEFAULT (now() AT TIME ZONE 'UTC'::text), -- date of the transaction\n",
      "quantity_sold integer, -- quantity of the product sold\n",
      "price double precision, -- price of the product sold\n",
      "discount double precision, -- discount percentage of the product sold\n",
      "tax double precision, -- tax percentage of the product sold\n",
      ")\n",
      "\n",
      "CREATE TABLE productdemandforecast (\n",
      "forecast_id SERIAL PRIMARY KEY, -- forecast_id is the forecast unique ID\n",
      "forecast_date date, -- date of the forecast\n",
      "forecasted_demand integer, -- forecasted demand of the product\n",
      "product_id VARCHAR(255), -- foreign key referencing products.product_id\n",
      ")\n",
      "\n",
      "-- stores.company_id can be joined with companies.company_id\n",
      "-- products.category_id can be joined with categories.category_id\n",
      "-- inventory.store_id can be joined with stores.store_id\n",
      "-- inventory.product_id can be joined with products.product_id\n",
      "-- restocks.inventory_id can be joined with inventory.inventory_id\n",
      "-- transactions.inventory_id can be joined with inventory.inventory_id\n",
      "-- productdemandforecast.product_id can be joined with products.product_id\n",
      "\n",
      "```\n",
      "Below the executed query: \n",
      "```sql\n",
      "\n",
      "SELECT stores.store_name, products.product_name_en, COUNT(transactions.transaction_id) AS number_of_transactions\n",
      "FROM stores\n",
      "JOIN inventory ON stores.store_id = inventory.store_id\n",
      "JOIN products ON inventory.product_id = products.product_id\n",
      "JOIN transactions ON inventory.inventory_id = transactions.inventory_id\n",
      "GROUP BY stores.store_name, products.product_name_en\n",
      "ORDER BY stores.store_name, number_of_transactions DESC\n",
      "LIMIT 1;\n",
      "\n",
      "``` \n",
      "\n",
      "Below the results obtained after executing the query: \n",
      "`{\"store_name\":{\"0\":\"Store 1\"},\"product_name_en\":{\"0\":\"Tea\"},\"number_of_transactions\":{\"0\":470}}`\n",
      "\n",
      "Answer the following question: \n",
      "What is the most sold product per store? [/INST]\n",
      "\n",
      "Based on the results obtained from the query, the most sold product per store is \"Tea\" with 470 transactions in \"Store 1\".\n"
     ]
    }
   ],
   "source": [
    "from llm_utils import prompt_llm_offline\n",
    "\n",
    "response = prompt_llm_offline(prompt=formatted_prompt, max_length=2000)\n",
    "print(response.split(\"[/INST]\")[-1])"
   ]
  },
  {
   "cell_type": "markdown",
   "metadata": {},
   "source": [
    "## Manifest-ml deploying and using server side"
   ]
  },
  {
   "cell_type": "code",
   "execution_count": 8,
   "metadata": {},
   "outputs": [],
   "source": [
    "from manifest import Manifest\n",
    "\n",
    "manifest_client = Manifest(client_name=\"huggingface\", client_connection=\"http://127.0.0.1:5001\")\n",
    "\n",
    "def get_sql(instruction: str, max_tokens: int = 300) -> str:\n",
    "    prompt = formatter.format_prompt(instruction)\n",
    "    res = manifest_client.run(prompt, max_tokens=max_tokens)\n",
    "    return formatter.format_model_output(res)"
   ]
  },
  {
   "cell_type": "code",
   "execution_count": 9,
   "metadata": {},
   "outputs": [
    {
     "name": "stdout",
     "output_type": "stream",
     "text": [
      "{'model_name': 'NumbersStation/nsql-llama-2-7B', 'model_path': 'NumbersStation/nsql-llama-2-7B', 'client_name': 'huggingface'}\n",
      "['temperature', 'max_tokens', 'n', 'top_p', 'top_k', 'repetition_penalty', 'do_sample']\n"
     ]
    }
   ],
   "source": [
    "print(manifest_client.client_pool.get_current_client().get_model_params())\n",
    "print(manifest_client.client_pool.get_current_client().get_model_inputs())"
   ]
  },
  {
   "cell_type": "code",
   "execution_count": 10,
   "metadata": {},
   "outputs": [
    {
     "name": "stdout",
     "output_type": "stream",
     "text": [
      "prompt='CREATE TABLE companies (\\n    company_id integer  primary key,\\n    company_name character varying \\n)\\n\\nCREATE TABLE stores (\\n    company_id integer ,\\n    store_id character varying  primary key,\\n    store_name character varying ,\\n    address text ,\\n    phone_number character varying ,\\n    foreign key (company_id) references companies(company_id)\\n)\\n\\nCREATE TABLE categories (\\n    category_id character varying  primary key,\\n    category_name_en character varying \\n)\\n\\nCREATE TABLE products (\\n    product_id character varying  primary key,\\n    article_id character varying ,\\n    product_name_en character varying ,\\n    uom character varying ,\\n    buom character varying ,\\n    category_id character varying ,\\n    brand character varying ,\\n    gtin character varying ,\\n    varient_en character varying ,\\n    foreign key (category_id) references categories(category_id)\\n)\\n\\nCREATE TABLE inventory (\\n    inventory_id integer  primary key,\\n    current_stock integer ,\\n    last_updated timestamp without time zone ,\\n    store_id character varying ,\\n    product_id character varying ,\\n    foreign key (store_id) references stores(store_id),\\n    foreign key (product_id) references products(product_id)\\n)\\n\\nCREATE TABLE restocks (\\n    restock_id integer  primary key,\\n    inventory_id integer ,\\n    restocked_quantity integer ,\\n    restock_date timestamp without time zone ,\\n    foreign key (inventory_id) references inventory(inventory_id)\\n)\\n\\nCREATE TABLE transactions (\\n    transaction_id integer  primary key,\\n    inventory_id integer ,\\n    date timestamp without time zone ,\\n    quantity_sold integer ,\\n    price double precision ,\\n    discount double precision ,\\n    tax double precision ,\\n    foreign key (inventory_id) references inventory(inventory_id)\\n)\\n\\nCREATE TABLE productdemandforecast (\\n    forecast_id integer  primary key,\\n    forecast_date date ,\\n    forecasted_demand integer ,\\n    product_id character varying ,\\n    foreign key (product_id) references products(product_id)\\n)\\n\\n\\n-- Using valid SQLite, answer the following questions for the tables provided above.\\n\\n-- How many products are sold in Store 001 ?\\nSELECT' engine='text-ada-001' n=1 client_timeout=60 run_id=None batch_size=8 temperature=1.0 max_tokens=300 top_p=1.0 top_k=50 logprobs=None stop_sequences=None num_beams=1 do_sample=True repetition_penalty=1.0 length_penalty=1.0 presence_penalty=0 frequency_penalty=0\n"
     ]
    },
    {
     "ename": "ReadTimeout",
     "evalue": "HTTPConnectionPool(host='127.0.0.1', port=5001): Read timed out. (read timeout=60)",
     "output_type": "error",
     "traceback": [
      "\u001b[0;31m---------------------------------------------------------------------------\u001b[0m",
      "\u001b[0;31mtimeout\u001b[0m                                   Traceback (most recent call last)",
      "File \u001b[0;32m~/Documents/Challenges/GenAI-SQL/NSQL/.venv/lib/python3.9/site-packages/urllib3/connectionpool.py:536\u001b[0m, in \u001b[0;36mHTTPConnectionPool._make_request\u001b[0;34m(self, conn, method, url, body, headers, retries, timeout, chunked, response_conn, preload_content, decode_content, enforce_content_length)\u001b[0m\n\u001b[1;32m    535\u001b[0m \u001b[39mtry\u001b[39;00m:\n\u001b[0;32m--> 536\u001b[0m     response \u001b[39m=\u001b[39m conn\u001b[39m.\u001b[39;49mgetresponse()\n\u001b[1;32m    537\u001b[0m \u001b[39mexcept\u001b[39;00m (BaseSSLError, \u001b[39mOSError\u001b[39;00m) \u001b[39mas\u001b[39;00m e:\n",
      "File \u001b[0;32m~/Documents/Challenges/GenAI-SQL/NSQL/.venv/lib/python3.9/site-packages/urllib3/connection.py:461\u001b[0m, in \u001b[0;36mHTTPConnection.getresponse\u001b[0;34m(self)\u001b[0m\n\u001b[1;32m    460\u001b[0m \u001b[39m# Get the response from http.client.HTTPConnection\u001b[39;00m\n\u001b[0;32m--> 461\u001b[0m httplib_response \u001b[39m=\u001b[39m \u001b[39msuper\u001b[39;49m()\u001b[39m.\u001b[39;49mgetresponse()\n\u001b[1;32m    463\u001b[0m \u001b[39mtry\u001b[39;00m:\n",
      "File \u001b[0;32m~/opt/anaconda3/lib/python3.9/http/client.py:1377\u001b[0m, in \u001b[0;36mHTTPConnection.getresponse\u001b[0;34m(self)\u001b[0m\n\u001b[1;32m   1376\u001b[0m \u001b[39mtry\u001b[39;00m:\n\u001b[0;32m-> 1377\u001b[0m     response\u001b[39m.\u001b[39;49mbegin()\n\u001b[1;32m   1378\u001b[0m \u001b[39mexcept\u001b[39;00m \u001b[39mConnectionError\u001b[39;00m:\n",
      "File \u001b[0;32m~/opt/anaconda3/lib/python3.9/http/client.py:320\u001b[0m, in \u001b[0;36mHTTPResponse.begin\u001b[0;34m(self)\u001b[0m\n\u001b[1;32m    319\u001b[0m \u001b[39mwhile\u001b[39;00m \u001b[39mTrue\u001b[39;00m:\n\u001b[0;32m--> 320\u001b[0m     version, status, reason \u001b[39m=\u001b[39m \u001b[39mself\u001b[39;49m\u001b[39m.\u001b[39;49m_read_status()\n\u001b[1;32m    321\u001b[0m     \u001b[39mif\u001b[39;00m status \u001b[39m!=\u001b[39m CONTINUE:\n",
      "File \u001b[0;32m~/opt/anaconda3/lib/python3.9/http/client.py:281\u001b[0m, in \u001b[0;36mHTTPResponse._read_status\u001b[0;34m(self)\u001b[0m\n\u001b[1;32m    280\u001b[0m \u001b[39mdef\u001b[39;00m \u001b[39m_read_status\u001b[39m(\u001b[39mself\u001b[39m):\n\u001b[0;32m--> 281\u001b[0m     line \u001b[39m=\u001b[39m \u001b[39mstr\u001b[39m(\u001b[39mself\u001b[39;49m\u001b[39m.\u001b[39;49mfp\u001b[39m.\u001b[39;49mreadline(_MAXLINE \u001b[39m+\u001b[39;49m \u001b[39m1\u001b[39;49m), \u001b[39m\"\u001b[39m\u001b[39miso-8859-1\u001b[39m\u001b[39m\"\u001b[39m)\n\u001b[1;32m    282\u001b[0m     \u001b[39mif\u001b[39;00m \u001b[39mlen\u001b[39m(line) \u001b[39m>\u001b[39m _MAXLINE:\n",
      "File \u001b[0;32m~/opt/anaconda3/lib/python3.9/socket.py:704\u001b[0m, in \u001b[0;36mSocketIO.readinto\u001b[0;34m(self, b)\u001b[0m\n\u001b[1;32m    703\u001b[0m \u001b[39mtry\u001b[39;00m:\n\u001b[0;32m--> 704\u001b[0m     \u001b[39mreturn\u001b[39;00m \u001b[39mself\u001b[39;49m\u001b[39m.\u001b[39;49m_sock\u001b[39m.\u001b[39;49mrecv_into(b)\n\u001b[1;32m    705\u001b[0m \u001b[39mexcept\u001b[39;00m timeout:\n",
      "\u001b[0;31mtimeout\u001b[0m: timed out",
      "\nThe above exception was the direct cause of the following exception:\n",
      "\u001b[0;31mReadTimeoutError\u001b[0m                          Traceback (most recent call last)",
      "File \u001b[0;32m~/Documents/Challenges/GenAI-SQL/NSQL/.venv/lib/python3.9/site-packages/requests/adapters.py:486\u001b[0m, in \u001b[0;36mHTTPAdapter.send\u001b[0;34m(self, request, stream, timeout, verify, cert, proxies)\u001b[0m\n\u001b[1;32m    485\u001b[0m \u001b[39mtry\u001b[39;00m:\n\u001b[0;32m--> 486\u001b[0m     resp \u001b[39m=\u001b[39m conn\u001b[39m.\u001b[39;49murlopen(\n\u001b[1;32m    487\u001b[0m         method\u001b[39m=\u001b[39;49mrequest\u001b[39m.\u001b[39;49mmethod,\n\u001b[1;32m    488\u001b[0m         url\u001b[39m=\u001b[39;49murl,\n\u001b[1;32m    489\u001b[0m         body\u001b[39m=\u001b[39;49mrequest\u001b[39m.\u001b[39;49mbody,\n\u001b[1;32m    490\u001b[0m         headers\u001b[39m=\u001b[39;49mrequest\u001b[39m.\u001b[39;49mheaders,\n\u001b[1;32m    491\u001b[0m         redirect\u001b[39m=\u001b[39;49m\u001b[39mFalse\u001b[39;49;00m,\n\u001b[1;32m    492\u001b[0m         assert_same_host\u001b[39m=\u001b[39;49m\u001b[39mFalse\u001b[39;49;00m,\n\u001b[1;32m    493\u001b[0m         preload_content\u001b[39m=\u001b[39;49m\u001b[39mFalse\u001b[39;49;00m,\n\u001b[1;32m    494\u001b[0m         decode_content\u001b[39m=\u001b[39;49m\u001b[39mFalse\u001b[39;49;00m,\n\u001b[1;32m    495\u001b[0m         retries\u001b[39m=\u001b[39;49m\u001b[39mself\u001b[39;49m\u001b[39m.\u001b[39;49mmax_retries,\n\u001b[1;32m    496\u001b[0m         timeout\u001b[39m=\u001b[39;49mtimeout,\n\u001b[1;32m    497\u001b[0m         chunked\u001b[39m=\u001b[39;49mchunked,\n\u001b[1;32m    498\u001b[0m     )\n\u001b[1;32m    500\u001b[0m \u001b[39mexcept\u001b[39;00m (ProtocolError, \u001b[39mOSError\u001b[39;00m) \u001b[39mas\u001b[39;00m err:\n",
      "File \u001b[0;32m~/Documents/Challenges/GenAI-SQL/NSQL/.venv/lib/python3.9/site-packages/urllib3/connectionpool.py:844\u001b[0m, in \u001b[0;36mHTTPConnectionPool.urlopen\u001b[0;34m(self, method, url, body, headers, retries, redirect, assert_same_host, timeout, pool_timeout, release_conn, chunked, body_pos, preload_content, decode_content, **response_kw)\u001b[0m\n\u001b[1;32m    842\u001b[0m     new_e \u001b[39m=\u001b[39m ProtocolError(\u001b[39m\"\u001b[39m\u001b[39mConnection aborted.\u001b[39m\u001b[39m\"\u001b[39m, new_e)\n\u001b[0;32m--> 844\u001b[0m retries \u001b[39m=\u001b[39m retries\u001b[39m.\u001b[39;49mincrement(\n\u001b[1;32m    845\u001b[0m     method, url, error\u001b[39m=\u001b[39;49mnew_e, _pool\u001b[39m=\u001b[39;49m\u001b[39mself\u001b[39;49m, _stacktrace\u001b[39m=\u001b[39;49msys\u001b[39m.\u001b[39;49mexc_info()[\u001b[39m2\u001b[39;49m]\n\u001b[1;32m    846\u001b[0m )\n\u001b[1;32m    847\u001b[0m retries\u001b[39m.\u001b[39msleep()\n",
      "File \u001b[0;32m~/Documents/Challenges/GenAI-SQL/NSQL/.venv/lib/python3.9/site-packages/urllib3/util/retry.py:470\u001b[0m, in \u001b[0;36mRetry.increment\u001b[0;34m(self, method, url, response, error, _pool, _stacktrace)\u001b[0m\n\u001b[1;32m    469\u001b[0m \u001b[39mif\u001b[39;00m read \u001b[39mis\u001b[39;00m \u001b[39mFalse\u001b[39;00m \u001b[39mor\u001b[39;00m method \u001b[39mis\u001b[39;00m \u001b[39mNone\u001b[39;00m \u001b[39mor\u001b[39;00m \u001b[39mnot\u001b[39;00m \u001b[39mself\u001b[39m\u001b[39m.\u001b[39m_is_method_retryable(method):\n\u001b[0;32m--> 470\u001b[0m     \u001b[39mraise\u001b[39;00m reraise(\u001b[39mtype\u001b[39;49m(error), error, _stacktrace)\n\u001b[1;32m    471\u001b[0m \u001b[39melif\u001b[39;00m read \u001b[39mis\u001b[39;00m \u001b[39mnot\u001b[39;00m \u001b[39mNone\u001b[39;00m:\n",
      "File \u001b[0;32m~/Documents/Challenges/GenAI-SQL/NSQL/.venv/lib/python3.9/site-packages/urllib3/util/util.py:39\u001b[0m, in \u001b[0;36mreraise\u001b[0;34m(tp, value, tb)\u001b[0m\n\u001b[1;32m     38\u001b[0m         \u001b[39mraise\u001b[39;00m value\u001b[39m.\u001b[39mwith_traceback(tb)\n\u001b[0;32m---> 39\u001b[0m     \u001b[39mraise\u001b[39;00m value\n\u001b[1;32m     40\u001b[0m \u001b[39mfinally\u001b[39;00m:\n",
      "File \u001b[0;32m~/Documents/Challenges/GenAI-SQL/NSQL/.venv/lib/python3.9/site-packages/urllib3/connectionpool.py:790\u001b[0m, in \u001b[0;36mHTTPConnectionPool.urlopen\u001b[0;34m(self, method, url, body, headers, retries, redirect, assert_same_host, timeout, pool_timeout, release_conn, chunked, body_pos, preload_content, decode_content, **response_kw)\u001b[0m\n\u001b[1;32m    789\u001b[0m \u001b[39m# Make the request on the HTTPConnection object\u001b[39;00m\n\u001b[0;32m--> 790\u001b[0m response \u001b[39m=\u001b[39m \u001b[39mself\u001b[39;49m\u001b[39m.\u001b[39;49m_make_request(\n\u001b[1;32m    791\u001b[0m     conn,\n\u001b[1;32m    792\u001b[0m     method,\n\u001b[1;32m    793\u001b[0m     url,\n\u001b[1;32m    794\u001b[0m     timeout\u001b[39m=\u001b[39;49mtimeout_obj,\n\u001b[1;32m    795\u001b[0m     body\u001b[39m=\u001b[39;49mbody,\n\u001b[1;32m    796\u001b[0m     headers\u001b[39m=\u001b[39;49mheaders,\n\u001b[1;32m    797\u001b[0m     chunked\u001b[39m=\u001b[39;49mchunked,\n\u001b[1;32m    798\u001b[0m     retries\u001b[39m=\u001b[39;49mretries,\n\u001b[1;32m    799\u001b[0m     response_conn\u001b[39m=\u001b[39;49mresponse_conn,\n\u001b[1;32m    800\u001b[0m     preload_content\u001b[39m=\u001b[39;49mpreload_content,\n\u001b[1;32m    801\u001b[0m     decode_content\u001b[39m=\u001b[39;49mdecode_content,\n\u001b[1;32m    802\u001b[0m     \u001b[39m*\u001b[39;49m\u001b[39m*\u001b[39;49mresponse_kw,\n\u001b[1;32m    803\u001b[0m )\n\u001b[1;32m    805\u001b[0m \u001b[39m# Everything went great!\u001b[39;00m\n",
      "File \u001b[0;32m~/Documents/Challenges/GenAI-SQL/NSQL/.venv/lib/python3.9/site-packages/urllib3/connectionpool.py:538\u001b[0m, in \u001b[0;36mHTTPConnectionPool._make_request\u001b[0;34m(self, conn, method, url, body, headers, retries, timeout, chunked, response_conn, preload_content, decode_content, enforce_content_length)\u001b[0m\n\u001b[1;32m    537\u001b[0m \u001b[39mexcept\u001b[39;00m (BaseSSLError, \u001b[39mOSError\u001b[39;00m) \u001b[39mas\u001b[39;00m e:\n\u001b[0;32m--> 538\u001b[0m     \u001b[39mself\u001b[39;49m\u001b[39m.\u001b[39;49m_raise_timeout(err\u001b[39m=\u001b[39;49me, url\u001b[39m=\u001b[39;49murl, timeout_value\u001b[39m=\u001b[39;49mread_timeout)\n\u001b[1;32m    539\u001b[0m     \u001b[39mraise\u001b[39;00m\n",
      "File \u001b[0;32m~/Documents/Challenges/GenAI-SQL/NSQL/.venv/lib/python3.9/site-packages/urllib3/connectionpool.py:370\u001b[0m, in \u001b[0;36mHTTPConnectionPool._raise_timeout\u001b[0;34m(self, err, url, timeout_value)\u001b[0m\n\u001b[1;32m    369\u001b[0m \u001b[39mif\u001b[39;00m \u001b[39misinstance\u001b[39m(err, SocketTimeout):\n\u001b[0;32m--> 370\u001b[0m     \u001b[39mraise\u001b[39;00m ReadTimeoutError(\n\u001b[1;32m    371\u001b[0m         \u001b[39mself\u001b[39m, url, \u001b[39mf\u001b[39m\u001b[39m\"\u001b[39m\u001b[39mRead timed out. (read timeout=\u001b[39m\u001b[39m{\u001b[39;00mtimeout_value\u001b[39m}\u001b[39;00m\u001b[39m)\u001b[39m\u001b[39m\"\u001b[39m\n\u001b[1;32m    372\u001b[0m     ) \u001b[39mfrom\u001b[39;00m \u001b[39merr\u001b[39;00m\n\u001b[1;32m    374\u001b[0m \u001b[39m# See the above comment about EAGAIN in Python 3.\u001b[39;00m\n",
      "\u001b[0;31mReadTimeoutError\u001b[0m: HTTPConnectionPool(host='127.0.0.1', port=5001): Read timed out. (read timeout=60)",
      "\nDuring handling of the above exception, another exception occurred:\n",
      "\u001b[0;31mReadTimeout\u001b[0m                               Traceback (most recent call last)",
      "\u001b[1;32m/Users/mehditantaoui/Documents/Challenges/GenAI-SQL/NSQL/examples/postgres.ipynb Cell 10\u001b[0m line \u001b[0;36m1\n\u001b[0;32m----> <a href='vscode-notebook-cell:/Users/mehditantaoui/Documents/Challenges/GenAI-SQL/NSQL/examples/postgres.ipynb#W6sZmlsZQ%3D%3D?line=0'>1</a>\u001b[0m sql \u001b[39m=\u001b[39m get_sql(\u001b[39m\"\u001b[39;49m\u001b[39mHow many products are sold in Store 001 ?\u001b[39;49m\u001b[39m\"\u001b[39;49m)\n\u001b[1;32m      <a href='vscode-notebook-cell:/Users/mehditantaoui/Documents/Challenges/GenAI-SQL/NSQL/examples/postgres.ipynb#W6sZmlsZQ%3D%3D?line=1'>2</a>\u001b[0m \u001b[39mprint\u001b[39m(sql)\n",
      "\u001b[1;32m/Users/mehditantaoui/Documents/Challenges/GenAI-SQL/NSQL/examples/postgres.ipynb Cell 10\u001b[0m line \u001b[0;36m7\n\u001b[1;32m      <a href='vscode-notebook-cell:/Users/mehditantaoui/Documents/Challenges/GenAI-SQL/NSQL/examples/postgres.ipynb#W6sZmlsZQ%3D%3D?line=4'>5</a>\u001b[0m \u001b[39mdef\u001b[39;00m \u001b[39mget_sql\u001b[39m(instruction: \u001b[39mstr\u001b[39m, max_tokens: \u001b[39mint\u001b[39m \u001b[39m=\u001b[39m \u001b[39m300\u001b[39m) \u001b[39m-\u001b[39m\u001b[39m>\u001b[39m \u001b[39mstr\u001b[39m:\n\u001b[1;32m      <a href='vscode-notebook-cell:/Users/mehditantaoui/Documents/Challenges/GenAI-SQL/NSQL/examples/postgres.ipynb#W6sZmlsZQ%3D%3D?line=5'>6</a>\u001b[0m     prompt \u001b[39m=\u001b[39m formatter\u001b[39m.\u001b[39mformat_prompt(instruction)\n\u001b[0;32m----> <a href='vscode-notebook-cell:/Users/mehditantaoui/Documents/Challenges/GenAI-SQL/NSQL/examples/postgres.ipynb#W6sZmlsZQ%3D%3D?line=6'>7</a>\u001b[0m     res \u001b[39m=\u001b[39m manifest_client\u001b[39m.\u001b[39;49mrun(prompt, max_tokens\u001b[39m=\u001b[39;49mmax_tokens)\n\u001b[1;32m      <a href='vscode-notebook-cell:/Users/mehditantaoui/Documents/Challenges/GenAI-SQL/NSQL/examples/postgres.ipynb#W6sZmlsZQ%3D%3D?line=7'>8</a>\u001b[0m     \u001b[39mreturn\u001b[39;00m formatter\u001b[39m.\u001b[39mformat_model_output(res)\n",
      "File \u001b[0;32m~/Documents/Challenges/GenAI-SQL/NSQL/.venv/lib/python3.9/site-packages/manifest/manifest.py:380\u001b[0m, in \u001b[0;36mManifest.run\u001b[0;34m(self, prompt, overwrite_cache, stop_token, return_response, stream, **kwargs)\u001b[0m\n\u001b[1;32m    369\u001b[0m         logger\u001b[39m.\u001b[39mwarning(\n\u001b[1;32m    370\u001b[0m             \u001b[39m\"\u001b[39m\u001b[39mstop_token is not supported for chat prompt. \u001b[39m\u001b[39m\"\u001b[39m\n\u001b[1;32m    371\u001b[0m             \u001b[39m\"\u001b[39m\u001b[39mIgnoring stop_token.\u001b[39m\u001b[39m\"\u001b[39m\n\u001b[1;32m    372\u001b[0m         )\n\u001b[1;32m    373\u001b[0m     \u001b[39mreturn\u001b[39;00m \u001b[39mself\u001b[39m\u001b[39m.\u001b[39m_run_chat(\n\u001b[1;32m    374\u001b[0m         prompt\u001b[39m=\u001b[39mcast(List[Dict[\u001b[39mstr\u001b[39m, \u001b[39mstr\u001b[39m]], prompt),\n\u001b[1;32m    375\u001b[0m         client\u001b[39m=\u001b[39mclient,\n\u001b[0;32m   (...)\u001b[0m\n\u001b[1;32m    378\u001b[0m         \u001b[39m*\u001b[39m\u001b[39m*\u001b[39mkwargs,\n\u001b[1;32m    379\u001b[0m     )\n\u001b[0;32m--> 380\u001b[0m \u001b[39mreturn\u001b[39;00m \u001b[39mself\u001b[39;49m\u001b[39m.\u001b[39;49m_run(\n\u001b[1;32m    381\u001b[0m     prompt\u001b[39m=\u001b[39;49mcast(Union[\u001b[39mstr\u001b[39;49m, List[\u001b[39mstr\u001b[39;49m]], prompt),\n\u001b[1;32m    382\u001b[0m     client\u001b[39m=\u001b[39;49mclient,\n\u001b[1;32m    383\u001b[0m     overwrite_cache\u001b[39m=\u001b[39;49moverwrite_cache,\n\u001b[1;32m    384\u001b[0m     stop_token\u001b[39m=\u001b[39;49mstop_token,\n\u001b[1;32m    385\u001b[0m     return_response\u001b[39m=\u001b[39;49mreturn_response,\n\u001b[1;32m    386\u001b[0m     \u001b[39m*\u001b[39;49m\u001b[39m*\u001b[39;49mkwargs,\n\u001b[1;32m    387\u001b[0m )\n",
      "File \u001b[0;32m~/Documents/Challenges/GenAI-SQL/NSQL/.venv/lib/python3.9/site-packages/manifest/manifest.py:430\u001b[0m, in \u001b[0;36mManifest._run\u001b[0;34m(self, prompt, client, overwrite_cache, stop_token, return_response, **kwargs)\u001b[0m\n\u001b[1;32m    428\u001b[0m     \u001b[39mprint\u001b[39m(request_params)\n\u001b[1;32m    429\u001b[0m     \u001b[39mself\u001b[39m\u001b[39m.\u001b[39mclient_pool\u001b[39m.\u001b[39mstart_timer()\n\u001b[0;32m--> 430\u001b[0m     response \u001b[39m=\u001b[39m client\u001b[39m.\u001b[39;49mrun_request(request_params)\n\u001b[1;32m    431\u001b[0m     \u001b[39mself\u001b[39m\u001b[39m.\u001b[39mclient_pool\u001b[39m.\u001b[39mend_timer()\n\u001b[1;32m    432\u001b[0m \u001b[39melse\u001b[39;00m:\n\u001b[1;32m    433\u001b[0m     \u001b[39m# Nothing to run\u001b[39;00m\n",
      "File \u001b[0;32m~/Documents/Challenges/GenAI-SQL/NSQL/.venv/lib/python3.9/site-packages/manifest/clients/client.py:546\u001b[0m, in \u001b[0;36mClient.run_request\u001b[0;34m(self, request)\u001b[0m\n\u001b[1;32m    543\u001b[0m     batch_size \u001b[39m=\u001b[39m \u001b[39mint\u001b[39m(math\u001b[39m.\u001b[39mceil(\u001b[39mlen\u001b[39m(prompt_list) \u001b[39m/\u001b[39m (num_batches \u001b[39m+\u001b[39m \u001b[39m1\u001b[39m)))\n\u001b[1;32m    544\u001b[0m request_batches \u001b[39m=\u001b[39m \u001b[39mself\u001b[39m\u001b[39m.\u001b[39m_split_requests(request_params, batch_size)\n\u001b[0;32m--> 546\u001b[0m response_dicts \u001b[39m=\u001b[39m [\n\u001b[1;32m    547\u001b[0m     \u001b[39mself\u001b[39m\u001b[39m.\u001b[39m_run_completion(batch, retry_timeout) \u001b[39mfor\u001b[39;00m batch \u001b[39min\u001b[39;00m request_batches\n\u001b[1;32m    548\u001b[0m ]\n\u001b[1;32m    549\u001b[0m \u001b[39m# Flatten responses\u001b[39;00m\n\u001b[1;32m    550\u001b[0m \u001b[39mreturn\u001b[39;00m \u001b[39mself\u001b[39m\u001b[39m.\u001b[39m_stitch_responses(request, response_dicts)\n",
      "File \u001b[0;32m~/Documents/Challenges/GenAI-SQL/NSQL/.venv/lib/python3.9/site-packages/manifest/clients/client.py:547\u001b[0m, in \u001b[0;36m<listcomp>\u001b[0;34m(.0)\u001b[0m\n\u001b[1;32m    543\u001b[0m     batch_size \u001b[39m=\u001b[39m \u001b[39mint\u001b[39m(math\u001b[39m.\u001b[39mceil(\u001b[39mlen\u001b[39m(prompt_list) \u001b[39m/\u001b[39m (num_batches \u001b[39m+\u001b[39m \u001b[39m1\u001b[39m)))\n\u001b[1;32m    544\u001b[0m request_batches \u001b[39m=\u001b[39m \u001b[39mself\u001b[39m\u001b[39m.\u001b[39m_split_requests(request_params, batch_size)\n\u001b[1;32m    546\u001b[0m response_dicts \u001b[39m=\u001b[39m [\n\u001b[0;32m--> 547\u001b[0m     \u001b[39mself\u001b[39;49m\u001b[39m.\u001b[39;49m_run_completion(batch, retry_timeout) \u001b[39mfor\u001b[39;00m batch \u001b[39min\u001b[39;00m request_batches\n\u001b[1;32m    548\u001b[0m ]\n\u001b[1;32m    549\u001b[0m \u001b[39m# Flatten responses\u001b[39;00m\n\u001b[1;32m    550\u001b[0m \u001b[39mreturn\u001b[39;00m \u001b[39mself\u001b[39m\u001b[39m.\u001b[39m_stitch_responses(request, response_dicts)\n",
      "File \u001b[0;32m~/Documents/Challenges/GenAI-SQL/NSQL/.venv/lib/python3.9/site-packages/tenacity/__init__.py:289\u001b[0m, in \u001b[0;36mBaseRetrying.wraps.<locals>.wrapped_f\u001b[0;34m(*args, **kw)\u001b[0m\n\u001b[1;32m    287\u001b[0m \u001b[39m@functools\u001b[39m\u001b[39m.\u001b[39mwraps(f)\n\u001b[1;32m    288\u001b[0m \u001b[39mdef\u001b[39;00m \u001b[39mwrapped_f\u001b[39m(\u001b[39m*\u001b[39margs: t\u001b[39m.\u001b[39mAny, \u001b[39m*\u001b[39m\u001b[39m*\u001b[39mkw: t\u001b[39m.\u001b[39mAny) \u001b[39m-\u001b[39m\u001b[39m>\u001b[39m t\u001b[39m.\u001b[39mAny:\n\u001b[0;32m--> 289\u001b[0m     \u001b[39mreturn\u001b[39;00m \u001b[39mself\u001b[39;49m(f, \u001b[39m*\u001b[39;49margs, \u001b[39m*\u001b[39;49m\u001b[39m*\u001b[39;49mkw)\n",
      "File \u001b[0;32m~/Documents/Challenges/GenAI-SQL/NSQL/.venv/lib/python3.9/site-packages/tenacity/__init__.py:379\u001b[0m, in \u001b[0;36mRetrying.__call__\u001b[0;34m(self, fn, *args, **kwargs)\u001b[0m\n\u001b[1;32m    377\u001b[0m retry_state \u001b[39m=\u001b[39m RetryCallState(retry_object\u001b[39m=\u001b[39m\u001b[39mself\u001b[39m, fn\u001b[39m=\u001b[39mfn, args\u001b[39m=\u001b[39margs, kwargs\u001b[39m=\u001b[39mkwargs)\n\u001b[1;32m    378\u001b[0m \u001b[39mwhile\u001b[39;00m \u001b[39mTrue\u001b[39;00m:\n\u001b[0;32m--> 379\u001b[0m     do \u001b[39m=\u001b[39m \u001b[39mself\u001b[39;49m\u001b[39m.\u001b[39;49miter(retry_state\u001b[39m=\u001b[39;49mretry_state)\n\u001b[1;32m    380\u001b[0m     \u001b[39mif\u001b[39;00m \u001b[39misinstance\u001b[39m(do, DoAttempt):\n\u001b[1;32m    381\u001b[0m         \u001b[39mtry\u001b[39;00m:\n",
      "File \u001b[0;32m~/Documents/Challenges/GenAI-SQL/NSQL/.venv/lib/python3.9/site-packages/tenacity/__init__.py:314\u001b[0m, in \u001b[0;36mBaseRetrying.iter\u001b[0;34m(self, retry_state)\u001b[0m\n\u001b[1;32m    312\u001b[0m is_explicit_retry \u001b[39m=\u001b[39m fut\u001b[39m.\u001b[39mfailed \u001b[39mand\u001b[39;00m \u001b[39misinstance\u001b[39m(fut\u001b[39m.\u001b[39mexception(), TryAgain)\n\u001b[1;32m    313\u001b[0m \u001b[39mif\u001b[39;00m \u001b[39mnot\u001b[39;00m (is_explicit_retry \u001b[39mor\u001b[39;00m \u001b[39mself\u001b[39m\u001b[39m.\u001b[39mretry(retry_state)):\n\u001b[0;32m--> 314\u001b[0m     \u001b[39mreturn\u001b[39;00m fut\u001b[39m.\u001b[39;49mresult()\n\u001b[1;32m    316\u001b[0m \u001b[39mif\u001b[39;00m \u001b[39mself\u001b[39m\u001b[39m.\u001b[39mafter \u001b[39mis\u001b[39;00m \u001b[39mnot\u001b[39;00m \u001b[39mNone\u001b[39;00m:\n\u001b[1;32m    317\u001b[0m     \u001b[39mself\u001b[39m\u001b[39m.\u001b[39mafter(retry_state)\n",
      "File \u001b[0;32m~/opt/anaconda3/lib/python3.9/concurrent/futures/_base.py:439\u001b[0m, in \u001b[0;36mFuture.result\u001b[0;34m(self, timeout)\u001b[0m\n\u001b[1;32m    437\u001b[0m     \u001b[39mraise\u001b[39;00m CancelledError()\n\u001b[1;32m    438\u001b[0m \u001b[39melif\u001b[39;00m \u001b[39mself\u001b[39m\u001b[39m.\u001b[39m_state \u001b[39m==\u001b[39m FINISHED:\n\u001b[0;32m--> 439\u001b[0m     \u001b[39mreturn\u001b[39;00m \u001b[39mself\u001b[39;49m\u001b[39m.\u001b[39;49m__get_result()\n\u001b[1;32m    441\u001b[0m \u001b[39mself\u001b[39m\u001b[39m.\u001b[39m_condition\u001b[39m.\u001b[39mwait(timeout)\n\u001b[1;32m    443\u001b[0m \u001b[39mif\u001b[39;00m \u001b[39mself\u001b[39m\u001b[39m.\u001b[39m_state \u001b[39min\u001b[39;00m [CANCELLED, CANCELLED_AND_NOTIFIED]:\n",
      "File \u001b[0;32m~/opt/anaconda3/lib/python3.9/concurrent/futures/_base.py:391\u001b[0m, in \u001b[0;36mFuture.__get_result\u001b[0;34m(self)\u001b[0m\n\u001b[1;32m    389\u001b[0m \u001b[39mif\u001b[39;00m \u001b[39mself\u001b[39m\u001b[39m.\u001b[39m_exception:\n\u001b[1;32m    390\u001b[0m     \u001b[39mtry\u001b[39;00m:\n\u001b[0;32m--> 391\u001b[0m         \u001b[39mraise\u001b[39;00m \u001b[39mself\u001b[39m\u001b[39m.\u001b[39m_exception\n\u001b[1;32m    392\u001b[0m     \u001b[39mfinally\u001b[39;00m:\n\u001b[1;32m    393\u001b[0m         \u001b[39m# Break a reference cycle with the exception in self._exception\u001b[39;00m\n\u001b[1;32m    394\u001b[0m         \u001b[39mself\u001b[39m \u001b[39m=\u001b[39m \u001b[39mNone\u001b[39;00m\n",
      "File \u001b[0;32m~/Documents/Challenges/GenAI-SQL/NSQL/.venv/lib/python3.9/site-packages/tenacity/__init__.py:382\u001b[0m, in \u001b[0;36mRetrying.__call__\u001b[0;34m(self, fn, *args, **kwargs)\u001b[0m\n\u001b[1;32m    380\u001b[0m \u001b[39mif\u001b[39;00m \u001b[39misinstance\u001b[39m(do, DoAttempt):\n\u001b[1;32m    381\u001b[0m     \u001b[39mtry\u001b[39;00m:\n\u001b[0;32m--> 382\u001b[0m         result \u001b[39m=\u001b[39m fn(\u001b[39m*\u001b[39;49margs, \u001b[39m*\u001b[39;49m\u001b[39m*\u001b[39;49mkwargs)\n\u001b[1;32m    383\u001b[0m     \u001b[39mexcept\u001b[39;00m \u001b[39mBaseException\u001b[39;00m:  \u001b[39m# noqa: B902\u001b[39;00m\n\u001b[1;32m    384\u001b[0m         retry_state\u001b[39m.\u001b[39mset_exception(sys\u001b[39m.\u001b[39mexc_info())  \u001b[39m# type: ignore[arg-type]\u001b[39;00m\n",
      "File \u001b[0;32m~/Documents/Challenges/GenAI-SQL/NSQL/.venv/lib/python3.9/site-packages/manifest/clients/client.py:402\u001b[0m, in \u001b[0;36mClient._run_completion\u001b[0;34m(self, request_params, retry_timeout)\u001b[0m\n\u001b[1;32m    400\u001b[0m request_params \u001b[39m=\u001b[39m \u001b[39mself\u001b[39m\u001b[39m.\u001b[39mpreprocess_request_params(request_params)\n\u001b[1;32m    401\u001b[0m post_str \u001b[39m=\u001b[39m \u001b[39mself\u001b[39m\u001b[39m.\u001b[39mget_generation_url()\n\u001b[0;32m--> 402\u001b[0m res \u001b[39m=\u001b[39m requests\u001b[39m.\u001b[39;49mpost(\n\u001b[1;32m    403\u001b[0m     post_str,\n\u001b[1;32m    404\u001b[0m     headers\u001b[39m=\u001b[39;49m\u001b[39mself\u001b[39;49m\u001b[39m.\u001b[39;49mget_generation_header(),\n\u001b[1;32m    405\u001b[0m     json\u001b[39m=\u001b[39;49mrequest_params,\n\u001b[1;32m    406\u001b[0m     timeout\u001b[39m=\u001b[39;49mretry_timeout,\n\u001b[1;32m    407\u001b[0m )\n\u001b[1;32m    408\u001b[0m \u001b[39mtry\u001b[39;00m:\n\u001b[1;32m    409\u001b[0m     res\u001b[39m.\u001b[39mraise_for_status()\n",
      "File \u001b[0;32m~/Documents/Challenges/GenAI-SQL/NSQL/.venv/lib/python3.9/site-packages/requests/api.py:115\u001b[0m, in \u001b[0;36mpost\u001b[0;34m(url, data, json, **kwargs)\u001b[0m\n\u001b[1;32m    103\u001b[0m \u001b[39mdef\u001b[39;00m \u001b[39mpost\u001b[39m(url, data\u001b[39m=\u001b[39m\u001b[39mNone\u001b[39;00m, json\u001b[39m=\u001b[39m\u001b[39mNone\u001b[39;00m, \u001b[39m*\u001b[39m\u001b[39m*\u001b[39mkwargs):\n\u001b[1;32m    104\u001b[0m \u001b[39m    \u001b[39m\u001b[39mr\u001b[39m\u001b[39m\"\"\"Sends a POST request.\u001b[39;00m\n\u001b[1;32m    105\u001b[0m \n\u001b[1;32m    106\u001b[0m \u001b[39m    :param url: URL for the new :class:`Request` object.\u001b[39;00m\n\u001b[0;32m   (...)\u001b[0m\n\u001b[1;32m    112\u001b[0m \u001b[39m    :rtype: requests.Response\u001b[39;00m\n\u001b[1;32m    113\u001b[0m \u001b[39m    \"\"\"\u001b[39;00m\n\u001b[0;32m--> 115\u001b[0m     \u001b[39mreturn\u001b[39;00m request(\u001b[39m\"\u001b[39;49m\u001b[39mpost\u001b[39;49m\u001b[39m\"\u001b[39;49m, url, data\u001b[39m=\u001b[39;49mdata, json\u001b[39m=\u001b[39;49mjson, \u001b[39m*\u001b[39;49m\u001b[39m*\u001b[39;49mkwargs)\n",
      "File \u001b[0;32m~/Documents/Challenges/GenAI-SQL/NSQL/.venv/lib/python3.9/site-packages/requests/api.py:59\u001b[0m, in \u001b[0;36mrequest\u001b[0;34m(method, url, **kwargs)\u001b[0m\n\u001b[1;32m     55\u001b[0m \u001b[39m# By using the 'with' statement we are sure the session is closed, thus we\u001b[39;00m\n\u001b[1;32m     56\u001b[0m \u001b[39m# avoid leaving sockets open which can trigger a ResourceWarning in some\u001b[39;00m\n\u001b[1;32m     57\u001b[0m \u001b[39m# cases, and look like a memory leak in others.\u001b[39;00m\n\u001b[1;32m     58\u001b[0m \u001b[39mwith\u001b[39;00m sessions\u001b[39m.\u001b[39mSession() \u001b[39mas\u001b[39;00m session:\n\u001b[0;32m---> 59\u001b[0m     \u001b[39mreturn\u001b[39;00m session\u001b[39m.\u001b[39;49mrequest(method\u001b[39m=\u001b[39;49mmethod, url\u001b[39m=\u001b[39;49murl, \u001b[39m*\u001b[39;49m\u001b[39m*\u001b[39;49mkwargs)\n",
      "File \u001b[0;32m~/Documents/Challenges/GenAI-SQL/NSQL/.venv/lib/python3.9/site-packages/requests/sessions.py:589\u001b[0m, in \u001b[0;36mSession.request\u001b[0;34m(self, method, url, params, data, headers, cookies, files, auth, timeout, allow_redirects, proxies, hooks, stream, verify, cert, json)\u001b[0m\n\u001b[1;32m    584\u001b[0m send_kwargs \u001b[39m=\u001b[39m {\n\u001b[1;32m    585\u001b[0m     \u001b[39m\"\u001b[39m\u001b[39mtimeout\u001b[39m\u001b[39m\"\u001b[39m: timeout,\n\u001b[1;32m    586\u001b[0m     \u001b[39m\"\u001b[39m\u001b[39mallow_redirects\u001b[39m\u001b[39m\"\u001b[39m: allow_redirects,\n\u001b[1;32m    587\u001b[0m }\n\u001b[1;32m    588\u001b[0m send_kwargs\u001b[39m.\u001b[39mupdate(settings)\n\u001b[0;32m--> 589\u001b[0m resp \u001b[39m=\u001b[39m \u001b[39mself\u001b[39;49m\u001b[39m.\u001b[39;49msend(prep, \u001b[39m*\u001b[39;49m\u001b[39m*\u001b[39;49msend_kwargs)\n\u001b[1;32m    591\u001b[0m \u001b[39mreturn\u001b[39;00m resp\n",
      "File \u001b[0;32m~/Documents/Challenges/GenAI-SQL/NSQL/.venv/lib/python3.9/site-packages/requests/sessions.py:703\u001b[0m, in \u001b[0;36mSession.send\u001b[0;34m(self, request, **kwargs)\u001b[0m\n\u001b[1;32m    700\u001b[0m start \u001b[39m=\u001b[39m preferred_clock()\n\u001b[1;32m    702\u001b[0m \u001b[39m# Send the request\u001b[39;00m\n\u001b[0;32m--> 703\u001b[0m r \u001b[39m=\u001b[39m adapter\u001b[39m.\u001b[39;49msend(request, \u001b[39m*\u001b[39;49m\u001b[39m*\u001b[39;49mkwargs)\n\u001b[1;32m    705\u001b[0m \u001b[39m# Total elapsed time of the request (approximately)\u001b[39;00m\n\u001b[1;32m    706\u001b[0m elapsed \u001b[39m=\u001b[39m preferred_clock() \u001b[39m-\u001b[39m start\n",
      "File \u001b[0;32m~/Documents/Challenges/GenAI-SQL/NSQL/.venv/lib/python3.9/site-packages/requests/adapters.py:532\u001b[0m, in \u001b[0;36mHTTPAdapter.send\u001b[0;34m(self, request, stream, timeout, verify, cert, proxies)\u001b[0m\n\u001b[1;32m    530\u001b[0m     \u001b[39mraise\u001b[39;00m SSLError(e, request\u001b[39m=\u001b[39mrequest)\n\u001b[1;32m    531\u001b[0m \u001b[39melif\u001b[39;00m \u001b[39misinstance\u001b[39m(e, ReadTimeoutError):\n\u001b[0;32m--> 532\u001b[0m     \u001b[39mraise\u001b[39;00m ReadTimeout(e, request\u001b[39m=\u001b[39mrequest)\n\u001b[1;32m    533\u001b[0m \u001b[39melif\u001b[39;00m \u001b[39misinstance\u001b[39m(e, _InvalidHeader):\n\u001b[1;32m    534\u001b[0m     \u001b[39mraise\u001b[39;00m InvalidHeader(e, request\u001b[39m=\u001b[39mrequest)\n",
      "\u001b[0;31mReadTimeout\u001b[0m: HTTPConnectionPool(host='127.0.0.1', port=5001): Read timed out. (read timeout=60)"
     ]
    }
   ],
   "source": [
    "sql = get_sql(\"How many products are sold in Store 001 ?\")\n",
    "print(sql)"
   ]
  },
  {
   "cell_type": "code",
   "execution_count": 12,
   "metadata": {},
   "outputs": [
    {
     "ename": "ProgrammingError",
     "evalue": "(psycopg2.errors.UndefinedColumn) column t1.store_id does not exist\nLINE 1: ...duct_id) FROM products AS t1 JOIN stores AS t2 ON t1.store_i...\n                                                             ^\nHINT:  Perhaps you meant to reference the column \"t2.store_id\".\n\n[SQL: SELECT COUNT(DISTINCT t1.product_id) FROM products AS t1 JOIN stores AS t2 ON t1.store_id = t2.store_id WHERE t2.company_name = \"A\";]\n(Background on this error at: https://sqlalche.me/e/14/f405)",
     "output_type": "error",
     "traceback": [
      "\u001b[0;31m---------------------------------------------------------------------------\u001b[0m",
      "\u001b[0;31mUndefinedColumn\u001b[0m                           Traceback (most recent call last)",
      "File \u001b[0;32m~/Documents/Challenges/GenAI-SQL/NSQL/.venv/lib/python3.9/site-packages/sqlalchemy/engine/base.py:1910\u001b[0m, in \u001b[0;36mConnection._execute_context\u001b[0;34m(self, dialect, constructor, statement, parameters, execution_options, *args, **kw)\u001b[0m\n\u001b[1;32m   1909\u001b[0m     \u001b[39mif\u001b[39;00m \u001b[39mnot\u001b[39;00m evt_handled:\n\u001b[0;32m-> 1910\u001b[0m         \u001b[39mself\u001b[39;49m\u001b[39m.\u001b[39;49mdialect\u001b[39m.\u001b[39;49mdo_execute(\n\u001b[1;32m   1911\u001b[0m             cursor, statement, parameters, context\n\u001b[1;32m   1912\u001b[0m         )\n\u001b[1;32m   1914\u001b[0m \u001b[39mif\u001b[39;00m \u001b[39mself\u001b[39m\u001b[39m.\u001b[39m_has_events \u001b[39mor\u001b[39;00m \u001b[39mself\u001b[39m\u001b[39m.\u001b[39mengine\u001b[39m.\u001b[39m_has_events:\n",
      "File \u001b[0;32m~/Documents/Challenges/GenAI-SQL/NSQL/.venv/lib/python3.9/site-packages/sqlalchemy/engine/default.py:736\u001b[0m, in \u001b[0;36mDefaultDialect.do_execute\u001b[0;34m(self, cursor, statement, parameters, context)\u001b[0m\n\u001b[1;32m    735\u001b[0m \u001b[39mdef\u001b[39;00m \u001b[39mdo_execute\u001b[39m(\u001b[39mself\u001b[39m, cursor, statement, parameters, context\u001b[39m=\u001b[39m\u001b[39mNone\u001b[39;00m):\n\u001b[0;32m--> 736\u001b[0m     cursor\u001b[39m.\u001b[39;49mexecute(statement, parameters)\n",
      "\u001b[0;31mUndefinedColumn\u001b[0m: column t1.store_id does not exist\nLINE 1: ...duct_id) FROM products AS t1 JOIN stores AS t2 ON t1.store_i...\n                                                             ^\nHINT:  Perhaps you meant to reference the column \"t2.store_id\".\n",
      "\nThe above exception was the direct cause of the following exception:\n",
      "\u001b[0;31mProgrammingError\u001b[0m                          Traceback (most recent call last)",
      "\u001b[1;32m/Users/mehditantaoui/Documents/Challenges/GenAI-SQL/NSQL/examples/postgres.ipynb Cell 8\u001b[0m line \u001b[0;36m1\n\u001b[0;32m----> <a href='vscode-notebook-cell:/Users/mehditantaoui/Documents/Challenges/GenAI-SQL/NSQL/examples/postgres.ipynb#X10sZmlsZQ%3D%3D?line=0'>1</a>\u001b[0m \u001b[39mprint\u001b[39m(postgres_connector\u001b[39m.\u001b[39;49mrun_sql_as_df(sql))\n",
      "File \u001b[0;32m~/Documents/Challenges/GenAI-SQL/NSQL/examples/db_connectors.py:61\u001b[0m, in \u001b[0;36mPostgresConnector.run_sql_as_df\u001b[0;34m(self, sql)\u001b[0m\n\u001b[1;32m     59\u001b[0m \u001b[39m\u001b[39m\u001b[39m\"\"\"Run SQL statement.\"\"\"\u001b[39;00m\n\u001b[1;32m     60\u001b[0m \u001b[39mwith\u001b[39;00m \u001b[39mself\u001b[39m\u001b[39m.\u001b[39mconnect() \u001b[39mas\u001b[39;00m conn:\n\u001b[0;32m---> 61\u001b[0m     \u001b[39mreturn\u001b[39;00m pd\u001b[39m.\u001b[39;49mread_sql(sql, conn)\n",
      "File \u001b[0;32m~/Documents/Challenges/GenAI-SQL/NSQL/.venv/lib/python3.9/site-packages/pandas/io/sql.py:682\u001b[0m, in \u001b[0;36mread_sql\u001b[0;34m(sql, con, index_col, coerce_float, params, parse_dates, columns, chunksize, dtype_backend, dtype)\u001b[0m\n\u001b[1;32m    672\u001b[0m     \u001b[39mreturn\u001b[39;00m pandas_sql\u001b[39m.\u001b[39mread_table(\n\u001b[1;32m    673\u001b[0m         sql,\n\u001b[1;32m    674\u001b[0m         index_col\u001b[39m=\u001b[39mindex_col,\n\u001b[0;32m   (...)\u001b[0m\n\u001b[1;32m    679\u001b[0m         dtype_backend\u001b[39m=\u001b[39mdtype_backend,\n\u001b[1;32m    680\u001b[0m     )\n\u001b[1;32m    681\u001b[0m \u001b[39melse\u001b[39;00m:\n\u001b[0;32m--> 682\u001b[0m     \u001b[39mreturn\u001b[39;00m pandas_sql\u001b[39m.\u001b[39;49mread_query(\n\u001b[1;32m    683\u001b[0m         sql,\n\u001b[1;32m    684\u001b[0m         index_col\u001b[39m=\u001b[39;49mindex_col,\n\u001b[1;32m    685\u001b[0m         params\u001b[39m=\u001b[39;49mparams,\n\u001b[1;32m    686\u001b[0m         coerce_float\u001b[39m=\u001b[39;49mcoerce_float,\n\u001b[1;32m    687\u001b[0m         parse_dates\u001b[39m=\u001b[39;49mparse_dates,\n\u001b[1;32m    688\u001b[0m         chunksize\u001b[39m=\u001b[39;49mchunksize,\n\u001b[1;32m    689\u001b[0m         dtype_backend\u001b[39m=\u001b[39;49mdtype_backend,\n\u001b[1;32m    690\u001b[0m         dtype\u001b[39m=\u001b[39;49mdtype,\n\u001b[1;32m    691\u001b[0m     )\n",
      "File \u001b[0;32m~/Documents/Challenges/GenAI-SQL/NSQL/.venv/lib/python3.9/site-packages/pandas/io/sql.py:1776\u001b[0m, in \u001b[0;36mSQLDatabase.read_query\u001b[0;34m(self, sql, index_col, coerce_float, parse_dates, params, chunksize, dtype, dtype_backend)\u001b[0m\n\u001b[1;32m   1719\u001b[0m \u001b[39mdef\u001b[39;00m \u001b[39mread_query\u001b[39m(\n\u001b[1;32m   1720\u001b[0m     \u001b[39mself\u001b[39m,\n\u001b[1;32m   1721\u001b[0m     sql: \u001b[39mstr\u001b[39m,\n\u001b[0;32m   (...)\u001b[0m\n\u001b[1;32m   1728\u001b[0m     dtype_backend: DtypeBackend \u001b[39m|\u001b[39m Literal[\u001b[39m\"\u001b[39m\u001b[39mnumpy\u001b[39m\u001b[39m\"\u001b[39m] \u001b[39m=\u001b[39m \u001b[39m\"\u001b[39m\u001b[39mnumpy\u001b[39m\u001b[39m\"\u001b[39m,\n\u001b[1;32m   1729\u001b[0m ) \u001b[39m-\u001b[39m\u001b[39m>\u001b[39m DataFrame \u001b[39m|\u001b[39m Iterator[DataFrame]:\n\u001b[1;32m   1730\u001b[0m \u001b[39m    \u001b[39m\u001b[39m\"\"\"\u001b[39;00m\n\u001b[1;32m   1731\u001b[0m \u001b[39m    Read SQL query into a DataFrame.\u001b[39;00m\n\u001b[1;32m   1732\u001b[0m \n\u001b[0;32m   (...)\u001b[0m\n\u001b[1;32m   1774\u001b[0m \n\u001b[1;32m   1775\u001b[0m \u001b[39m    \"\"\"\u001b[39;00m\n\u001b[0;32m-> 1776\u001b[0m     result \u001b[39m=\u001b[39m \u001b[39mself\u001b[39;49m\u001b[39m.\u001b[39;49mexecute(sql, params)\n\u001b[1;32m   1777\u001b[0m     columns \u001b[39m=\u001b[39m result\u001b[39m.\u001b[39mkeys()\n\u001b[1;32m   1779\u001b[0m     \u001b[39mif\u001b[39;00m chunksize \u001b[39mis\u001b[39;00m \u001b[39mnot\u001b[39;00m \u001b[39mNone\u001b[39;00m:\n",
      "File \u001b[0;32m~/Documents/Challenges/GenAI-SQL/NSQL/.venv/lib/python3.9/site-packages/pandas/io/sql.py:1599\u001b[0m, in \u001b[0;36mSQLDatabase.execute\u001b[0;34m(self, sql, params)\u001b[0m\n\u001b[1;32m   1597\u001b[0m args \u001b[39m=\u001b[39m [] \u001b[39mif\u001b[39;00m params \u001b[39mis\u001b[39;00m \u001b[39mNone\u001b[39;00m \u001b[39melse\u001b[39;00m [params]\n\u001b[1;32m   1598\u001b[0m \u001b[39mif\u001b[39;00m \u001b[39misinstance\u001b[39m(sql, \u001b[39mstr\u001b[39m):\n\u001b[0;32m-> 1599\u001b[0m     \u001b[39mreturn\u001b[39;00m \u001b[39mself\u001b[39;49m\u001b[39m.\u001b[39;49mcon\u001b[39m.\u001b[39;49mexec_driver_sql(sql, \u001b[39m*\u001b[39;49margs)\n\u001b[1;32m   1600\u001b[0m \u001b[39mreturn\u001b[39;00m \u001b[39mself\u001b[39m\u001b[39m.\u001b[39mcon\u001b[39m.\u001b[39mexecute(sql, \u001b[39m*\u001b[39margs)\n",
      "File \u001b[0;32m~/Documents/Challenges/GenAI-SQL/NSQL/.venv/lib/python3.9/site-packages/sqlalchemy/engine/base.py:1770\u001b[0m, in \u001b[0;36mConnection.exec_driver_sql\u001b[0;34m(self, statement, parameters, execution_options)\u001b[0m\n\u001b[1;32m   1715\u001b[0m \u001b[39m\u001b[39m\u001b[39mr\u001b[39m\u001b[39m\"\"\"Executes a string SQL statement on the DBAPI cursor directly,\u001b[39;00m\n\u001b[1;32m   1716\u001b[0m \u001b[39mwithout any SQL compilation steps.\u001b[39;00m\n\u001b[1;32m   1717\u001b[0m \n\u001b[0;32m   (...)\u001b[0m\n\u001b[1;32m   1765\u001b[0m \n\u001b[1;32m   1766\u001b[0m \u001b[39m\"\"\"\u001b[39;00m\n\u001b[1;32m   1768\u001b[0m args_10style, kwargs_10style \u001b[39m=\u001b[39m _distill_params_20(parameters)\n\u001b[0;32m-> 1770\u001b[0m \u001b[39mreturn\u001b[39;00m \u001b[39mself\u001b[39;49m\u001b[39m.\u001b[39;49m_exec_driver_sql(\n\u001b[1;32m   1771\u001b[0m     statement,\n\u001b[1;32m   1772\u001b[0m     args_10style,\n\u001b[1;32m   1773\u001b[0m     kwargs_10style,\n\u001b[1;32m   1774\u001b[0m     execution_options,\n\u001b[1;32m   1775\u001b[0m     future\u001b[39m=\u001b[39;49m\u001b[39mTrue\u001b[39;49;00m,\n\u001b[1;32m   1776\u001b[0m )\n",
      "File \u001b[0;32m~/Documents/Challenges/GenAI-SQL/NSQL/.venv/lib/python3.9/site-packages/sqlalchemy/engine/base.py:1674\u001b[0m, in \u001b[0;36mConnection._exec_driver_sql\u001b[0;34m(self, statement, multiparams, params, execution_options, future)\u001b[0m\n\u001b[1;32m   1664\u001b[0m         (\n\u001b[1;32m   1665\u001b[0m             statement,\n\u001b[1;32m   1666\u001b[0m             distilled_params,\n\u001b[0;32m   (...)\u001b[0m\n\u001b[1;32m   1670\u001b[0m             statement, distilled_parameters, execution_options\n\u001b[1;32m   1671\u001b[0m         )\n\u001b[1;32m   1673\u001b[0m dialect \u001b[39m=\u001b[39m \u001b[39mself\u001b[39m\u001b[39m.\u001b[39mdialect\n\u001b[0;32m-> 1674\u001b[0m ret \u001b[39m=\u001b[39m \u001b[39mself\u001b[39;49m\u001b[39m.\u001b[39;49m_execute_context(\n\u001b[1;32m   1675\u001b[0m     dialect,\n\u001b[1;32m   1676\u001b[0m     dialect\u001b[39m.\u001b[39;49mexecution_ctx_cls\u001b[39m.\u001b[39;49m_init_statement,\n\u001b[1;32m   1677\u001b[0m     statement,\n\u001b[1;32m   1678\u001b[0m     distilled_parameters,\n\u001b[1;32m   1679\u001b[0m     execution_options,\n\u001b[1;32m   1680\u001b[0m     statement,\n\u001b[1;32m   1681\u001b[0m     distilled_parameters,\n\u001b[1;32m   1682\u001b[0m )\n\u001b[1;32m   1684\u001b[0m \u001b[39mif\u001b[39;00m \u001b[39mnot\u001b[39;00m future:\n\u001b[1;32m   1685\u001b[0m     \u001b[39mif\u001b[39;00m \u001b[39mself\u001b[39m\u001b[39m.\u001b[39m_has_events \u001b[39mor\u001b[39;00m \u001b[39mself\u001b[39m\u001b[39m.\u001b[39mengine\u001b[39m.\u001b[39m_has_events:\n",
      "File \u001b[0;32m~/Documents/Challenges/GenAI-SQL/NSQL/.venv/lib/python3.9/site-packages/sqlalchemy/engine/base.py:1953\u001b[0m, in \u001b[0;36mConnection._execute_context\u001b[0;34m(self, dialect, constructor, statement, parameters, execution_options, *args, **kw)\u001b[0m\n\u001b[1;32m   1950\u001b[0m             branched\u001b[39m.\u001b[39mclose()\n\u001b[1;32m   1952\u001b[0m \u001b[39mexcept\u001b[39;00m \u001b[39mBaseException\u001b[39;00m \u001b[39mas\u001b[39;00m e:\n\u001b[0;32m-> 1953\u001b[0m     \u001b[39mself\u001b[39;49m\u001b[39m.\u001b[39;49m_handle_dbapi_exception(\n\u001b[1;32m   1954\u001b[0m         e, statement, parameters, cursor, context\n\u001b[1;32m   1955\u001b[0m     )\n\u001b[1;32m   1957\u001b[0m \u001b[39mreturn\u001b[39;00m result\n",
      "File \u001b[0;32m~/Documents/Challenges/GenAI-SQL/NSQL/.venv/lib/python3.9/site-packages/sqlalchemy/engine/base.py:2134\u001b[0m, in \u001b[0;36mConnection._handle_dbapi_exception\u001b[0;34m(self, e, statement, parameters, cursor, context)\u001b[0m\n\u001b[1;32m   2132\u001b[0m     util\u001b[39m.\u001b[39mraise_(newraise, with_traceback\u001b[39m=\u001b[39mexc_info[\u001b[39m2\u001b[39m], from_\u001b[39m=\u001b[39me)\n\u001b[1;32m   2133\u001b[0m \u001b[39melif\u001b[39;00m should_wrap:\n\u001b[0;32m-> 2134\u001b[0m     util\u001b[39m.\u001b[39;49mraise_(\n\u001b[1;32m   2135\u001b[0m         sqlalchemy_exception, with_traceback\u001b[39m=\u001b[39;49mexc_info[\u001b[39m2\u001b[39;49m], from_\u001b[39m=\u001b[39;49me\n\u001b[1;32m   2136\u001b[0m     )\n\u001b[1;32m   2137\u001b[0m \u001b[39melse\u001b[39;00m:\n\u001b[1;32m   2138\u001b[0m     util\u001b[39m.\u001b[39mraise_(exc_info[\u001b[39m1\u001b[39m], with_traceback\u001b[39m=\u001b[39mexc_info[\u001b[39m2\u001b[39m])\n",
      "File \u001b[0;32m~/Documents/Challenges/GenAI-SQL/NSQL/.venv/lib/python3.9/site-packages/sqlalchemy/util/compat.py:211\u001b[0m, in \u001b[0;36mraise_\u001b[0;34m(***failed resolving arguments***)\u001b[0m\n\u001b[1;32m    208\u001b[0m     exception\u001b[39m.\u001b[39m__cause__ \u001b[39m=\u001b[39m replace_context\n\u001b[1;32m    210\u001b[0m \u001b[39mtry\u001b[39;00m:\n\u001b[0;32m--> 211\u001b[0m     \u001b[39mraise\u001b[39;00m exception\n\u001b[1;32m    212\u001b[0m \u001b[39mfinally\u001b[39;00m:\n\u001b[1;32m    213\u001b[0m     \u001b[39m# credit to\u001b[39;00m\n\u001b[1;32m    214\u001b[0m     \u001b[39m# https://cosmicpercolator.com/2016/01/13/exception-leaks-in-python-2-and-3/\u001b[39;00m\n\u001b[1;32m    215\u001b[0m     \u001b[39m# as the __traceback__ object creates a cycle\u001b[39;00m\n\u001b[1;32m    216\u001b[0m     \u001b[39mdel\u001b[39;00m exception, replace_context, from_, with_traceback\n",
      "File \u001b[0;32m~/Documents/Challenges/GenAI-SQL/NSQL/.venv/lib/python3.9/site-packages/sqlalchemy/engine/base.py:1910\u001b[0m, in \u001b[0;36mConnection._execute_context\u001b[0;34m(self, dialect, constructor, statement, parameters, execution_options, *args, **kw)\u001b[0m\n\u001b[1;32m   1908\u001b[0m                 \u001b[39mbreak\u001b[39;00m\n\u001b[1;32m   1909\u001b[0m     \u001b[39mif\u001b[39;00m \u001b[39mnot\u001b[39;00m evt_handled:\n\u001b[0;32m-> 1910\u001b[0m         \u001b[39mself\u001b[39;49m\u001b[39m.\u001b[39;49mdialect\u001b[39m.\u001b[39;49mdo_execute(\n\u001b[1;32m   1911\u001b[0m             cursor, statement, parameters, context\n\u001b[1;32m   1912\u001b[0m         )\n\u001b[1;32m   1914\u001b[0m \u001b[39mif\u001b[39;00m \u001b[39mself\u001b[39m\u001b[39m.\u001b[39m_has_events \u001b[39mor\u001b[39;00m \u001b[39mself\u001b[39m\u001b[39m.\u001b[39mengine\u001b[39m.\u001b[39m_has_events:\n\u001b[1;32m   1915\u001b[0m     \u001b[39mself\u001b[39m\u001b[39m.\u001b[39mdispatch\u001b[39m.\u001b[39mafter_cursor_execute(\n\u001b[1;32m   1916\u001b[0m         \u001b[39mself\u001b[39m,\n\u001b[1;32m   1917\u001b[0m         cursor,\n\u001b[0;32m   (...)\u001b[0m\n\u001b[1;32m   1921\u001b[0m         context\u001b[39m.\u001b[39mexecutemany,\n\u001b[1;32m   1922\u001b[0m     )\n",
      "File \u001b[0;32m~/Documents/Challenges/GenAI-SQL/NSQL/.venv/lib/python3.9/site-packages/sqlalchemy/engine/default.py:736\u001b[0m, in \u001b[0;36mDefaultDialect.do_execute\u001b[0;34m(self, cursor, statement, parameters, context)\u001b[0m\n\u001b[1;32m    735\u001b[0m \u001b[39mdef\u001b[39;00m \u001b[39mdo_execute\u001b[39m(\u001b[39mself\u001b[39m, cursor, statement, parameters, context\u001b[39m=\u001b[39m\u001b[39mNone\u001b[39;00m):\n\u001b[0;32m--> 736\u001b[0m     cursor\u001b[39m.\u001b[39;49mexecute(statement, parameters)\n",
      "\u001b[0;31mProgrammingError\u001b[0m: (psycopg2.errors.UndefinedColumn) column t1.store_id does not exist\nLINE 1: ...duct_id) FROM products AS t1 JOIN stores AS t2 ON t1.store_i...\n                                                             ^\nHINT:  Perhaps you meant to reference the column \"t2.store_id\".\n\n[SQL: SELECT COUNT(DISTINCT t1.product_id) FROM products AS t1 JOIN stores AS t2 ON t1.store_id = t2.store_id WHERE t2.company_name = \"A\";]\n(Background on this error at: https://sqlalche.me/e/14/f405)"
     ]
    }
   ],
   "source": [
    "print(postgres_connector.run_sql_as_df(sql))"
   ]
  },
  {
   "cell_type": "code",
   "execution_count": null,
   "metadata": {},
   "outputs": [],
   "source": []
  }
 ],
 "metadata": {
  "kernelspec": {
   "display_name": "Python 3 (ipykernel)",
   "language": "python",
   "name": "python3"
  },
  "language_info": {
   "codemirror_mode": {
    "name": "ipython",
    "version": 3
   },
   "file_extension": ".py",
   "mimetype": "text/x-python",
   "name": "python",
   "nbconvert_exporter": "python",
   "pygments_lexer": "ipython3",
   "version": "3.10.11"
  }
 },
 "nbformat": 4,
 "nbformat_minor": 4
}
