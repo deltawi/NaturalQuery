{
 "cells": [
  {
   "cell_type": "markdown",
   "id": "1fb92c40",
   "metadata": {},
   "source": [
    "## Default usage"
   ]
  },
  {
   "cell_type": "code",
   "execution_count": 1,
   "id": "115c8cf4",
   "metadata": {},
   "outputs": [],
   "source": [
    "from connectors.postgres_connector import PostgreSQLConnector\n",
    "# For PostgreSQL\n",
    "pg_credentials = {\n",
    "    'dbname': 'postgres',\n",
    "    'user': 'postgres',\n",
    "    'password': 'mysecretpassword',\n",
    "    'host': 'localhost',  # or another host address\n",
    "    'port': 5432  # default PostgreSQL port\n",
    "}\n",
    "\n",
    "pg_connector = PostgreSQLConnector(pg_credentials)\n",
    "pg_connector.connect()"
   ]
  },
  {
   "cell_type": "code",
   "execution_count": 2,
   "id": "d38d503b",
   "metadata": {},
   "outputs": [
    {
     "name": "stdout",
     "output_type": "stream",
     "text": [
      "========>  True\n",
      "========>  False\n",
      "========>  False\n"
     ]
    }
   ],
   "source": [
    "from query_translator.translator import MixtralQueryTranslator\n",
    "\n",
    "url = \"http://localhost:1234/v1/chat/completions\"\n",
    "api_key=\"\"\n",
    "\n",
    "query_translator = MixtralQueryTranslator(llm_api_key=api_key, \n",
    "                                          llm_endpoint_url=url, \n",
    "                                          db_connector=pg_connector,\n",
    "                                          llm_offline=False)\n",
    "#database_ddl = query_translator.enrich_ddl_with_comments(pg_connector.get_all_schemas_ddl())"
   ]
  },
  {
   "cell_type": "code",
   "execution_count": 3,
   "id": "8cd8b0f5",
   "metadata": {},
   "outputs": [
    {
     "name": "stdout",
     "output_type": "stream",
     "text": [
      "Using cached ddl...\n"
     ]
    },
    {
     "name": "stderr",
     "output_type": "stream",
     "text": [
      "/Users/mehditantaoui/Documents/Challenges/GenAI-SQL/NaturalQuery/src/connectors/base_connector.py:33: UserWarning: pandas only supports SQLAlchemy connectable (engine/connection) or database string URI or sqlite3 DBAPI2 connection. Other DBAPI2 objects are not tested. Please consider using SQLAlchemy.\n",
      "  return pd.read_sql(query, self.connection)\n"
     ]
    },
    {
     "name": "stdout",
     "output_type": "stream",
     "text": [
      " The suppliers with products that have the most reviews from customers are Global Supplies and Quality Goods Inc. with supplierids 1 and 2, respectively.\n"
     ]
    }
   ],
   "source": [
    "question = \"What are the suppliers with products that have the most reviews from costumers ?\"\n",
    "\n",
    "answer = query_translator.answer(question)\n",
    "print(answer)"
   ]
  },
  {
   "cell_type": "markdown",
   "id": "b96a16cc",
   "metadata": {},
   "source": [
    "## Query in a different language"
   ]
  },
  {
   "cell_type": "code",
   "execution_count": 4,
   "id": "3247f4be",
   "metadata": {},
   "outputs": [
    {
     "name": "stdout",
     "output_type": "stream",
     "text": [
      "========>  True\n",
      "========>  False\n",
      "========>  False\n"
     ]
    }
   ],
   "source": [
    "query_translator = MixtralQueryTranslator(\n",
    "    llm_api_key=api_key, llm_endpoint_url=url, \n",
    "    db_connector=pg_connector,\n",
    "    language='Fr', \n",
    "    llm_offline=False)\n"
   ]
  },
  {
   "cell_type": "code",
   "execution_count": 5,
   "id": "14af0396",
   "metadata": {},
   "outputs": [
    {
     "name": "stdout",
     "output_type": "stream",
     "text": [
      "Using cached ddl...\n"
     ]
    },
    {
     "name": "stderr",
     "output_type": "stream",
     "text": [
      "/Users/mehditantaoui/Documents/Challenges/GenAI-SQL/NaturalQuery/src/connectors/base_connector.py:33: UserWarning: pandas only supports SQLAlchemy connectable (engine/connection) or database string URI or sqlite3 DBAPI2 connection. Other DBAPI2 objects are not tested. Please consider using SQLAlchemy.\n",
      "  return pd.read_sql(query, self.connection)\n"
     ]
    },
    {
     "name": "stdout",
     "output_type": "stream",
     "text": [
      "Trying to fix the query...\n",
      "Using cached ddl...\n",
      "Sur la base de la requête et de ses résultats, les fournisseurs ayant les produits les plus évalués par les clients sont les suivants :\n",
      "\n",
      "1. Fournitures mondiales, avec 1 produit noté.\n",
      "2. Qualité Inc., avec 1 produit noté.\n"
     ]
    }
   ],
   "source": [
    "question = \"Quels sont les fournisseurs qui ont des produits les plus notés par les clients ?\"\n",
    "\n",
    "answer = query_translator.answer(question)\n",
    "print(answer)"
   ]
  },
  {
   "cell_type": "code",
   "execution_count": null,
   "id": "451223d4",
   "metadata": {},
   "outputs": [],
   "source": []
  }
 ],
 "metadata": {
  "kernelspec": {
   "display_name": "Python 3 (ipykernel)",
   "language": "python",
   "name": "python3"
  },
  "language_info": {
   "codemirror_mode": {
    "name": "ipython",
    "version": 3
   },
   "file_extension": ".py",
   "mimetype": "text/x-python",
   "name": "python",
   "nbconvert_exporter": "python",
   "pygments_lexer": "ipython3",
   "version": "3.9.12"
  }
 },
 "nbformat": 4,
 "nbformat_minor": 5
}
