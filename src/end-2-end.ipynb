{
 "cells": [
  {
   "cell_type": "code",
   "execution_count": 1,
   "id": "23e5924b-5f61-49e3-901d-f59c453e744e",
   "metadata": {},
   "outputs": [
    {
     "name": "stderr",
     "output_type": "stream",
     "text": [
      "/Users/mehditantaoui/Documents/Challenges/GenAI-SQL/NaturalQuery/.venv/lib/python3.9/site-packages/tqdm/auto.py:21: TqdmWarning: IProgress not found. Please update jupyter and ipywidgets. See https://ipywidgets.readthedocs.io/en/stable/user_install.html\n",
      "  from .autonotebook import tqdm as notebook_tqdm\n"
     ]
    }
   ],
   "source": [
    "from llm.llm_utils import *\n",
    "import pandas as pd"
   ]
  },
  {
   "cell_type": "code",
   "execution_count": 2,
   "id": "47d8543a-0182-4312-961a-f9e36b53f893",
   "metadata": {
    "editable": true,
    "slideshow": {
     "slide_type": ""
    },
    "tags": []
   },
   "outputs": [
    {
     "name": "stdout",
     "output_type": "stream",
     "text": [
      "Loading tables: ['payments', 'suppliers', 'products', 'categories', 'customers', 'orders', 'orderdetails', 'customerfeedback']\n"
     ]
    }
   ],
   "source": [
    "DATABASE = \"postgres\"\n",
    "USER = \"postgres\"\n",
    "PASSWORD = \"mysecretpassword\"\n",
    "HOST = \"localhost\"\n",
    "PORT = 5432\n",
    "TABLES = []  # list of tables to load or [] to load all tables\n",
    "\n",
    "from llm.db_connectors import PostgresConnector\n",
    "from llm.prompt_formatters import SqlCoderFormatter\n",
    "\n",
    "try:\n",
    "    # Get the connector and formatter\n",
    "    postgres_connector = PostgresConnector(\n",
    "        user=USER, password=PASSWORD, dbname=DATABASE, host=HOST, port=PORT\n",
    "    )\n",
    "    postgres_connector.connect()\n",
    "    if len(TABLES) <= 0:\n",
    "        TABLES.extend(postgres_connector.get_tables())\n",
    "    \n",
    "    print(f\"Loading tables: {TABLES}\")\n",
    "    \n",
    "    db_schema = [postgres_connector.get_schema(table) for table in TABLES]\n",
    "    formatter = SqlCoderFormatter(db_schema)\n",
    "except:\n",
    "    formatter = SqlCoderFormatter([])\n",
    "    # Reading from the file\n",
    "    with open(\"sample_table_str_raw.txt\", 'r') as file:\n",
    "        formatter.table_str = file.read()"
   ]
  },
  {
   "cell_type": "code",
   "execution_count": 3,
   "id": "3173e761",
   "metadata": {},
   "outputs": [],
   "source": [
    "# Enrich the db definition with comments (One time run and can be cached)\n",
    "formatter.enriched_table_str = add_comment_to_sql_mixtral(formatter.raw_table_str, debug=False)"
   ]
  },
  {
   "cell_type": "code",
   "execution_count": null,
   "id": "b301b3dd-89cc-43a9-ba0e-fb4851c77120",
   "metadata": {},
   "outputs": [],
   "source": [
    "question = \"What are the suppliers with products that have the most reviews from costumers ?\"\n"
   ]
  },
  {
   "cell_type": "code",
   "execution_count": null,
   "id": "880783d6-7877-456a-b4cb-2c11a96020d0",
   "metadata": {
    "editable": true,
    "slideshow": {
     "slide_type": ""
    },
    "tags": []
   },
   "outputs": [
    {
     "name": "stdout",
     "output_type": "stream",
     "text": [
      "The given SQL query is used to find the suppliers with the most customer reviews for their products. The query joins multiple tables, including `suppliers`, `products`, `orderdetails`, `orders`, and `customerfeedback`. It then groups the results by `supplierid` and `suppliername`, counts the number of feedback entries per supplier (which represents the total number of reviews), and orders the results in descending order based on this count.\n",
      "\n",
      "Based on the execution results provided, there are two suppliers listed:\n",
      "1. Global Supplies with 1 review\n",
      "2. Quality Goods Inc. with 1 review\n",
      "\n",
      "In this case, both suppliers have an equal number of reviews (which is only 1). Therefore, it can be said that Global Supplies and Quality Goods Inc. are the two suppliers with products having the most customer reviews. However, if there were other suppliers with more reviews, they would appear above these two in the results table.\n",
      "CPU times: user 36.6 ms, sys: 118 ms, total: 155 ms\n",
      "Wall time: 2min 59s\n"
     ]
    }
   ],
   "source": [
    "%%time\n",
    "# Build the prompt for Text2SQL\n",
    "prompt = formatter.format_prompt(question, database='Postgres', model_prompt=\"Mixtral\")\n",
    "# Get SQLQuery\n",
    "response = prompt_llm_online(user_prompt=prompt)\n",
    "query = extract_sql_code(response)\n",
    "# Execute the query and get the final results\n",
    "exec_results = postgres_connector.run_sql_as_df(query)\n",
    "if not isinstance(exec_results, pd.DataFrame):\n",
    "    response = prompt_llm_online(user_prompt=f\"Fix the SQL query based on the error \\n {exec_results} {query}.\\nSQL DDL is the following:\\n {formatter.enriched_table_str}\")\n",
    "    query = extract_sql_code(response)\n",
    "    exec_results = postgres_connector.run_sql_as_df(query)\n",
    "    \n",
    "interpretation_prompt = f\"Answer the following question based on this query {query} and the results of the execution of the query: {exec_results}\\n{question}. Don't give intermediate steps, just answer the question.\"\n",
    "# Ask Mixtral to answer the question:\n",
    "final_response = prompt_llm_online(user_prompt=interpretation_prompt, system_prompt=\"You are a helpful assistant.\")\n",
    "\n",
    "print(final_response)\n"
   ]
  }
 ],
 "metadata": {
  "kernelspec": {
   "display_name": "Python 3 (ipykernel)",
   "language": "python",
   "name": "python3"
  },
  "language_info": {
   "codemirror_mode": {
    "name": "ipython",
    "version": 3
   },
   "file_extension": ".py",
   "mimetype": "text/x-python",
   "name": "python",
   "nbconvert_exporter": "python",
   "pygments_lexer": "ipython3",
   "version": "3.9.12"
  }
 },
 "nbformat": 4,
 "nbformat_minor": 5
}
