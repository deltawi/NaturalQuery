{
 "cells": [
  {
   "cell_type": "markdown",
   "id": "1fb92c40",
   "metadata": {},
   "source": [
    "## Default usage"
   ]
  },
  {
   "cell_type": "code",
   "execution_count": 1,
   "id": "115c8cf4",
   "metadata": {},
   "outputs": [],
   "source": [
    "from connectors.postgres_connector import PostgreSQLConnector\n",
    "# For PostgreSQL\n",
    "pg_credentials = {\n",
    "    'dbname': 'postgres',\n",
    "    'user': 'postgres',\n",
    "    'password': 'mysecretpassword',\n",
    "    'host': 'localhost',  # or another host address\n",
    "    'port': 5432  # default PostgreSQL port\n",
    "}\n",
    "\n",
    "pg_connector = PostgreSQLConnector(pg_credentials)\n",
    "pg_connector.connect()"
   ]
  },
  {
   "cell_type": "code",
   "execution_count": 2,
   "id": "d38d503b",
   "metadata": {},
   "outputs": [
    {
     "name": "stdout",
     "output_type": "stream",
     "text": [
      "========>  True\n",
      "========>  False\n",
      "========>  False\n"
     ]
    }
   ],
   "source": [
    "from query_translator.translator import MixtralQueryTranslator\n",
    "\n",
    "url = \"http://localhost:1234/v1/chat/completions\"\n",
    "api_key=\"\"\n",
    "\n",
    "query_translator = MixtralQueryTranslator(llm_api_key=api_key, \n",
    "                                          llm_endpoint_url=url, \n",
    "                                          db_connector=pg_connector,\n",
    "                                          llm_offline=False)\n",
    "#database_ddl = query_translator.enrich_ddl_with_comments(pg_connector.get_all_schemas_ddl())"
   ]
  },
  {
   "cell_type": "code",
   "execution_count": 3,
   "id": "8cd8b0f5",
   "metadata": {},
   "outputs": [
    {
     "name": "stdout",
     "output_type": "stream",
     "text": [
      "Using cached ddl...\n",
      " To find the suppliers with products that have the most reviews from customers, we first need to join the necessary tables (suppliers, products, and customerfeedback) and count the number of reviews each product has received. Then, we can join this result with the products table to get the supplier information and finally find the suppliers with the most reviews by using the aggregate function `MAX()`. Here's the SQL query:\n",
      "```sql\n",
      "WITH product_reviews AS (\n",
      "  SELECT\n",
      "    p.supplierid,\n",
      "    p.productid,\n",
      "    COUNT(cf.feedbackid) AS num_reviews\n",
      "  FROM\n",
      "    products p\n",
      "    JOIN customerfeedback cf ON p.productid = cf.productid\n",
      "  GROUP BY\n",
      "    p.supplierid,\n",
      "    p.productid\n",
      "),\n",
      "supplier_max_reviews AS (\n",
      "  SELECT\n",
      "    supplierid,\n",
      "    MAX(num_reviews) AS max_reviews\n",
      "  FROM\n",
      "    product_reviews\n",
      "  GROUP BY\n",
      "    supplierid\n",
      ")\n",
      "SELECT\n",
      "  s.supplierid,\n",
      "  s.suppliername\n",
      "FROM\n",
      "  suppliers s\n",
      "  JOIN supplier_max_reviews smr ON s.supplierid = smr.supplierid\n",
      "WHERE\n",
      "  smr.max_reviews = (\n",
      "    SELECT\n",
      "      MAX(max_reviews)\n",
      "    FROM\n",
      "      supplier_max_reviews\n",
      "  );\n",
      "```\n",
      "This query assumes that there is a one-to-one relationship between the products and suppliers tables. If a supplier can have multiple products, you may need to adjust the query to get the desired result.\n"
     ]
    },
    {
     "name": "stderr",
     "output_type": "stream",
     "text": [
      "/Users/mehditantaoui/Documents/Challenges/GenAI-SQL/NaturalQuery/src/connectors/base_connector.py:33: UserWarning: pandas only supports SQLAlchemy connectable (engine/connection) or database string URI or sqlite3 DBAPI2 connection. Other DBAPI2 objects are not tested. Please consider using SQLAlchemy.\n",
      "  return pd.read_sql(query, self.connection)\n"
     ]
    },
    {
     "name": "stdout",
     "output_type": "stream",
     "text": [
      " The suppliers with products that have the most reviews from customers are \"Quality Goods Inc.\" and \"Global Supplies\". Based on the query results, these suppliers have the highest number of reviews for their products.\n"
     ]
    }
   ],
   "source": [
    "question = \"What are the suppliers with products that have the most reviews from costumers ?\"\n",
    "\n",
    "answer = query_translator.answer(question)\n",
    "print(answer)"
   ]
  },
  {
   "cell_type": "markdown",
   "id": "b96a16cc",
   "metadata": {},
   "source": [
    "## Query in a different language"
   ]
  },
  {
   "cell_type": "code",
   "execution_count": 5,
   "id": "3247f4be",
   "metadata": {},
   "outputs": [
    {
     "name": "stdout",
     "output_type": "stream",
     "text": [
      "========>  True\n",
      "========>  False\n",
      "========>  False\n"
     ]
    }
   ],
   "source": [
    "query_translator = MixtralQueryTranslator(\n",
    "    llm_api_key=api_key, llm_endpoint_url=url, \n",
    "    db_connector=pg_connector,\n",
    "    language='Fr', \n",
    "    llm_offline=False)\n"
   ]
  },
  {
   "cell_type": "code",
   "execution_count": 6,
   "id": "14af0396",
   "metadata": {},
   "outputs": [
    {
     "name": "stdout",
     "output_type": "stream",
     "text": [
      "Using cached ddl...\n",
      " Sure, I can help you with that! Here is the SQL code snippet for your question:\n",
      "\n",
      "Suppose we want to find the top 3 categories with the highest average rating from customer feedback.\n",
      "\n",
      "We can achieve this by using the following SQL query:\n",
      "```sql\n",
      "SELECT c1.categoryname, AVG(cf1.rating) as avg_rating\n",
      "FROM categories c1\n",
      "JOIN products p1 ON c1.categoryid = p1.categoryid\n",
      "JOIN customerfeedback cf1 ON p1.productid = cf1.productid\n",
      "GROUP BY c1.categoryname\n",
      "ORDER BY avg_rating DESC\n",
      "LIMIT 3;\n",
      "```\n",
      "Explanation:\n",
      "\n",
      "1. We start by joining the `categories`, `products`, and `customerfeedback` tables based on their foreign keys.\n",
      "2. Then, we group the results by the `categoryname` column to calculate the average rating for each category.\n",
      "3. We order the results by the average rating in descending order to get the top 3 categories.\n",
      "4. Finally, we limit the results to the top 3 categories using the `LIMIT` keyword.\n",
      "\n",
      "Note: This query assumes that there is at least one piece of feedback for each product. If this is not the case, we may need to use a different approach to calculate the average rating.\n"
     ]
    },
    {
     "name": "stderr",
     "output_type": "stream",
     "text": [
      "/Users/mehditantaoui/Documents/Challenges/GenAI-SQL/NaturalQuery/src/connectors/base_connector.py:33: UserWarning: pandas only supports SQLAlchemy connectable (engine/connection) or database string URI or sqlite3 DBAPI2 connection. Other DBAPI2 objects are not tested. Please consider using SQLAlchemy.\n",
      "  return pd.read_sql(query, self.connection)\n"
     ]
    },
    {
     "name": "stdout",
     "output_type": "stream",
     "text": [
      " La requête sélectionne le nom de la catégorie et la note moyenne de la table \"categories\", qui est jointe avec les tables \"products\" et \"customerfeedback\" à l'aide des ID de catégorie et de produit en tant que clés. Les résultats sont regroupés par nom de catégorie, triés par note moyenne en ordre décroissant et limités aux 3 premières catégories ayant les notes moyennes les plus élevées. Sur la base des résultats fournis, les trois premières catégories sont Vêtements avec une note moyenne de 5,0, Électronique avec une note moyenne de 4,0 et toute autre catégorie ayant une note moyenne inférieure à 4,0.\n"
     ]
    }
   ],
   "source": [
    "question = \"Quels sont les fournisseurs qui ont des produits les plus notés par les clients ?\"\n",
    "\n",
    "answer = query_translator.answer(question)\n",
    "print(answer)"
   ]
  },
  {
   "cell_type": "code",
   "execution_count": null,
   "id": "451223d4",
   "metadata": {},
   "outputs": [],
   "source": []
  }
 ],
 "metadata": {
  "kernelspec": {
   "display_name": "Python 3 (ipykernel)",
   "language": "python",
   "name": "python3"
  },
  "language_info": {
   "codemirror_mode": {
    "name": "ipython",
    "version": 3
   },
   "file_extension": ".py",
   "mimetype": "text/x-python",
   "name": "python",
   "nbconvert_exporter": "python",
   "pygments_lexer": "ipython3",
   "version": "3.9.12"
  }
 },
 "nbformat": 4,
 "nbformat_minor": 5
}
